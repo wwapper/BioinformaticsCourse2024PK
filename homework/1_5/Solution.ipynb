{
 "cells": [
  {
   "cell_type": "markdown",
   "metadata": {},
   "source": [
    "## Жадный алгоритм множественного выравнивания\n",
    "Реализуйте алгоритм, который принимал бы на вход массив строк, штраф за удаления, вставки и несовпадения, а также цену совпадений. А возвращал бы множественное выравнивание. На первом шаге алгоритм должен выбрать две самые близкие по расстоянию Левенштейна строки и заменить их консенснусной строкой. При следующих шагах алгоритма выравниваться между собой могут так же и консенснусные строки. При этом стоит хранить для каждой строки не только ее саму но и профиль множественного выравнивания, чтобы в итоге правильно пересчитывать консенсус.\n",
    "Результат работы алгоритма - массив строк, соответствующий некоторому множественному выравниванию."
   ]
  },
  {
   "cell_type": "code",
   "execution_count": 131,
   "metadata": {},
   "outputs": [],
   "source": [
    "import numpy as np\n",
    "\n",
    "def levenstein_distance_matrix(seq1, seq2, cost_del, cost_ins, cost_match, cost_mismatch):\n",
    "    # print(seq1, seq2)\n",
    "    n = len(seq1)\n",
    "    m = len(seq2)\n",
    "    dp = [[0 for _ in range(m+1)] for _ in range(n+1)]\n",
    "    for i in range(n+1):\n",
    "        dp[i][0] = i*cost_ins\n",
    "    for i in range(m+1):\n",
    "        dp[0][i] = i*cost_del\n",
    "    for i in range(1, n+1):\n",
    "        for j in range(1, m+1):\n",
    "            dp[i][j] = max(\n",
    "                dp[i-1][j-1] + (cost_match if seq1[i-1] == seq2[j-1] else cost_mismatch),\n",
    "                dp[i-1][j] + cost_ins,\n",
    "                dp[i][j-1] + cost_del,\n",
    "            )\n",
    "    return dp\n",
    "\n",
    "\n",
    "def alignments(seq1, seq2, dp, cost_del, cost_ins, cost_match, cost_mismatch):\n",
    "    n = len(seq1)\n",
    "    m = len(seq2)\n",
    "    alignment1 = ''\n",
    "    alignment2 = ''\n",
    "    while n > 0 or m > 0:\n",
    "        if n > 0 and m > 0 and dp[n][m] == dp[n-1][m-1] + (cost_match if seq1[n-1] == seq2[m-1] else cost_mismatch):\n",
    "            alignment1 = seq1[n-1] + alignment1\n",
    "            alignment2 = seq2[m-1] + alignment2\n",
    "            n -= 1\n",
    "            m -= 1\n",
    "        elif n > 0 and dp[n][m] == dp[n-1][m] + cost_ins:\n",
    "            alignment1 = seq1[n-1] + alignment1\n",
    "            alignment2 = '-' + alignment2\n",
    "            n -= 1\n",
    "        elif m > 0 and dp[n][m] == dp[n][m-1] + cost_del:\n",
    "            alignment2 = seq2[m-1] + alignment2\n",
    "            alignment1 = '-' + alignment1\n",
    "            m -= 1\n",
    "    return alignment1, alignment2\n",
    "\n",
    "class consensuns_string:\n",
    "    def __init__(self, string=None, msa_profile=None, is_msa = False):\n",
    "        if not is_msa:\n",
    "            self.msa_profile = np.array([[ch for ch in string]])\n",
    "        else:\n",
    "            self.msa_profile = np.array(msa_profile)\n",
    "        self.consensuns_string = self.get_consensuns()\n",
    "\n",
    "    def update_msa_profile(self, aligned_old_consensuns):\n",
    "        old_consensuns = self.consensuns_string + '*'*len(aligned_old_consensuns)\n",
    "        self.consensuns_string = aligned_old_consensuns\n",
    "        # print(aligned_old_consensuns)\n",
    "        # print(old_consensuns)\n",
    "        for chr_idx in range(len(aligned_old_consensuns)):\n",
    "            if aligned_old_consensuns[chr_idx] == '-' and old_consensuns[chr_idx] != '-':  # think!\n",
    "                self.msa_profile = np.insert(self.msa_profile, chr_idx, '-', axis=1)\n",
    "                old_consensuns = old_consensuns[:chr_idx] + '-' + old_consensuns[chr_idx:]\n",
    "        # self.msa_profile = np.append(self.msa_profile)\n",
    "\n",
    "    def get_consensuns(self):\n",
    "        frequency = []\n",
    "        num_sequences = self.msa_profile.shape[0]\n",
    "        idxs = {'A': 0, 'C': 1, 'G': 2, 'T': 3, '-': 4}\n",
    "        revert_idxs = {0: 'A', 1: 'C', 2: 'G', 3: 'T', 4: '-'}\n",
    "        for seq in self.msa_profile.T:\n",
    "            unique, counts = np.unique(seq, return_counts=True)\n",
    "            new_counts = [0 for _ in range(5)]\n",
    "            for ch_idx in range(len(unique)):\n",
    "                new_counts[idxs[unique[ch_idx]]] = counts[ch_idx]\n",
    "            frequency.append(new_counts)\n",
    "        frequency = np.array(frequency).astype('float')\n",
    "        frequency /= num_sequences\n",
    "        # print(frequency)\n",
    "        consensuns = ''\n",
    "        for row in frequency:\n",
    "            consensuns += revert_idxs[np.argmax(row)]\n",
    "        # print(consensuns)\n",
    "        return consensuns\n",
    "\n",
    "\n",
    "def msa(sequences, cost_del, cost_ins, cost_match, cost_mismatch):\n",
    "    sequences = [consensuns_string(sequence) for sequence in sequences]\n",
    "    while len(sequences) > 1:\n",
    "        best_score = -np.inf\n",
    "        best_matrix = None\n",
    "        best_sequences = None\n",
    "        for i in range(len(sequences)):\n",
    "            for j in range(i):\n",
    "                seq1 = sequences[i]\n",
    "                seq2 = sequences[j]\n",
    "                matrix = levenstein_distance_matrix(seq1.consensuns_string, seq2.consensuns_string, cost_del, cost_ins, cost_match, cost_mismatch)\n",
    "                score = matrix[-1][-1]\n",
    "                # print(score)\n",
    "                if score > best_score:\n",
    "                    best_score = score\n",
    "                    best_matrix = matrix\n",
    "                    best_sequences = (seq1, seq2)\n",
    "        sequence1, sequence2 = best_sequences\n",
    "        alignment1, alignment2 = alignments(sequence1.consensuns_string, sequence2.consensuns_string, best_matrix, cost_del, cost_ins, cost_match, cost_mismatch)\n",
    "        sequence1.update_msa_profile(alignment1)\n",
    "        sequence2.update_msa_profile(alignment2)\n",
    "        # print(sequence1.msa_profile)\n",
    "        # print(sequence2.msa_profile)\n",
    "        new_msa_profile = np.concatenate((sequence1.msa_profile, sequence2.msa_profile), axis=0)\n",
    "        new_sequence = consensuns_string(None, new_msa_profile, True)\n",
    "        sequences.remove(sequence1)\n",
    "        sequences.remove(sequence2)\n",
    "        sequences.append(new_sequence)\n",
    "        # print([sequence.consensuns_string for sequence in sequences])\n",
    "    return sequences[0].msa_profile\n"
   ]
  },
  {
   "cell_type": "code",
   "execution_count": 132,
   "metadata": {},
   "outputs": [],
   "source": [
    "a = consensuns_string('AGTC', [['A', 'G', 'T', 'C'], ['A', 'T', 'C', 'G'], ['A', 'T', 'C', 'G']])"
   ]
  },
  {
   "cell_type": "code",
   "execution_count": 135,
   "metadata": {},
   "outputs": [],
   "source": [
    "secs1 = ['TCGGGGTTTTT', 'CCTGACTTAC', 'ACGGGATTTTC',\n",
    "     'AGTC', 'TTGGGGACTTCC', 'TCGGATTCAT',\n",
    "     'GGGATTCC', 'TAGGGGAACC', 'TCGGGTATAACC']\n",
    "\n",
    "secs2 = ['ATGTTATA', 'AGCGATCA', 'ATCGTCTC']"
   ]
  },
  {
   "cell_type": "code",
   "execution_count": 140,
   "metadata": {},
   "outputs": [
    {
     "name": "stdout",
     "output_type": "stream",
     "text": [
      "[['A' 'T' 'C' 'G' 'T' 'C' 'T' '-' 'C']\n",
      " ['A' 'T' 'G' 'T' 'T' 'A' 'T' '-' 'A']\n",
      " ['A' 'G' 'C' 'G' '-' 'A' 'T' 'C' 'A']]\n"
     ]
    }
   ],
   "source": [
    "print(msa(secs2, -2, -2, 1, -1))"
   ]
  },
  {
   "cell_type": "code",
   "execution_count": null,
   "metadata": {},
   "outputs": [],
   "source": []
  }
 ],
 "metadata": {
  "kernelspec": {
   "display_name": "general",
   "language": "python",
   "name": "python3"
  },
  "language_info": {
   "codemirror_mode": {
    "name": "ipython",
    "version": 3
   },
   "file_extension": ".py",
   "mimetype": "text/x-python",
   "name": "python",
   "nbconvert_exporter": "python",
   "pygments_lexer": "ipython3",
   "version": "3.10.12"
  }
 },
 "nbformat": 4,
 "nbformat_minor": 2
}
