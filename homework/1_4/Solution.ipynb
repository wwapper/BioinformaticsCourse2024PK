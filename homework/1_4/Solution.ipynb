{
 "cells": [
  {
   "cell_type": "markdown",
   "metadata": {},
   "source": [
    "# Задача №0\n",
    "\n",
    "Дорешайте задачу про риды и BWT из файла practice4.ipynb. В ответе помимо кода укажите количество ридов первой, второй и третьей категории, а также вкратце опишите ход решения.\n",
    "\n",
    "Это домашнее задание можно выполнять целиком в этом ноутбуке, либо алгоритмы написать в отдельном файле и импортировать сюда, для использования. В папке data лежат два файла islands.fasta и nonIslands.fasta. В них хранятся прочтения из CpG островков и из обычных участков генома соответственно, этими данными нужно будет воспользоваться в первом задании."
   ]
  },
  {
   "cell_type": "code",
   "execution_count": 1,
   "metadata": {},
   "outputs": [],
   "source": [
    "from pysuffixarray.core import SuffixArray\n",
    "from Bio import SeqIO"
   ]
  },
  {
   "cell_type": "code",
   "execution_count": 2,
   "metadata": {},
   "outputs": [],
   "source": [
    "class BTW_searcher():\n",
    "    def __init__(self, sequence):\n",
    "\n",
    "        self.suffix_array = SuffixArray(sequence)\n",
    "\n",
    "        self.bwt_text = ''.join(sequence[i-1] if i != 0 else '$' for i in self.suffix_array.suffix_array())\n",
    "\n",
    "        self.occ = {letter: [0 for _ in range(len(self.bwt_text))] for letter in '$ACGT'}\n",
    "\n",
    "        for i, letter in enumerate(self.bwt_text):\n",
    "            for ch in 'ACGT':\n",
    "                if i != 0:\n",
    "                    self.occ[ch][i] = self.occ[ch][i-1]\n",
    "            if letter in self.occ.keys():\n",
    "                self.occ[letter][i] += 1\n",
    "    \n",
    "        self.count = {}\n",
    "        total = 0\n",
    "        for letter in '$ACGT':\n",
    "            self.count[letter] = total\n",
    "            total += self.bwt_text.count(letter)\n",
    "\n",
    "    def bwt_pattern_search(self, pattern):\n",
    "        top = 0\n",
    "        bottom = len(self.bwt_text) - 1\n",
    "        for letter in reversed(pattern):\n",
    "            if letter in self.occ:\n",
    "                top = self.count[letter] + (0 if top == 0 else self.occ[letter][top-1])\n",
    "                bottom = self.count[letter] + self.occ[letter][bottom] - 1\n",
    "            else:\n",
    "                return []\n",
    "            if top > bottom:\n",
    "                return []\n",
    "        return self.suffix_array.suffix_array()[top:bottom+1]\n",
    "    \n",
    "\n",
    "def get_btw(seq):\n",
    "    sa = SuffixArray(seq) \n",
    "    return ''.join(seq[i-1] if i != 0 else '$' for i in sa.suffix_array())\n"
   ]
  },
  {
   "cell_type": "code",
   "execution_count": 3,
   "metadata": {},
   "outputs": [],
   "source": [
    "seqs = SeqIO.parse(r\"/home/pk/Desktop/BioinformaticsCourse2024PK/homework/1_4/BWT_folder/genome.fa\", \"fasta\")\n",
    "\n",
    "for seq in seqs:\n",
    "    sequence = str(seq.seq)\n",
    "\n",
    "btw_text = get_btw(sequence)\n",
    "bwts = BTW_searcher(sequence)"
   ]
  },
  {
   "cell_type": "markdown",
   "metadata": {},
   "source": [
    "Риды без мутаций найти просто - нужно просто найти паттерн с помощью реализованного метода bwt_pattern_search. Если массив индексов непустой - вхождение подстроки есть"
   ]
  },
  {
   "cell_type": "code",
   "execution_count": 4,
   "metadata": {},
   "outputs": [
    {
     "name": "stdout",
     "output_type": "stream",
     "text": [
      "Число ридов без мутаций - 45\n"
     ]
    }
   ],
   "source": [
    "count = 0\n",
    "with open(r\"/home/pk/Desktop/BioinformaticsCourse2024PK/homework/1_4/BWT_folder/sample_reads.fasta\", \"r\") as file:\n",
    "    for record in SeqIO.parse(file, \"fasta\"):\n",
    "        read_sequence = str(record.seq)\n",
    "        pattern_insert = bwts.bwt_pattern_search(read_sequence)\n",
    "        if len(pattern_insert) > 0:\n",
    "            count += 1\n",
    "            #  если надо вывести конкретные риды:\n",
    "            #print(\"Processing read:\", read_sequence)\n",
    "            #print(*pattern_insert)\n",
    "print('Число ридов без мутаций -', count)"
   ]
  },
  {
   "cell_type": "markdown",
   "metadata": {},
   "source": [
    "Чтобы найти риды с несколькими мутациями (мы знаем их число - m), нужно разделить строку паттерн на (m+1) частей, и проверить, какая из них входит в последовательность (одна часть подстроки точно будет входить без ошибок в нашу строку). Если нашли вхождение - проверяем посимвольно соответствующие подстроку и часть строки. Если число несовпадающих символов равно числу m, то мы нашли подстроку в строке с заданным числом мутаций"
   ]
  },
  {
   "cell_type": "code",
   "execution_count": 58,
   "metadata": {},
   "outputs": [
    {
     "name": "stdout",
     "output_type": "stream",
     "text": [
      "Число паттернов без мутаций - 45\n",
      "Число паттернов с одной мутацией - 31\n",
      "Число паттернов с пятью мутациями - 24\n",
      "100\n"
     ]
    }
   ],
   "source": [
    "def mutation_search(sequence, subsequence, num_mutations):\n",
    "    i = 0\n",
    "    k = len(subsequence)//(num_mutations+1)\n",
    "    segments = []\n",
    "    for _ in range(num_mutations):\n",
    "        segments.append(subsequence[i:i+k])\n",
    "        i += k\n",
    "    segments.append(subsequence[i:])\n",
    "    for segment_idx, segment in enumerate(segments):\n",
    "            idxs = bwts.bwt_pattern_search(segment)\n",
    "            for idx in idxs:\n",
    "                start = idx-segment_idx*k\n",
    "                end = start + len(subsequence)\n",
    "                m = 0\n",
    "                for char_idx in range(start, end):\n",
    "                    if sequence[char_idx] != subsequence[char_idx-start]:\n",
    "                        m += 1\n",
    "                if m == num_mutations:\n",
    "                    #  если надо вывести конкретные риды:\n",
    "                    # print(\"Processing read:\", subsequence)\n",
    "                    # print(*pattern_insert)\n",
    "                    return True\n",
    "    return False\n",
    "\n",
    "count_0 = 0\n",
    "count_1 = 0\n",
    "count_5 = 0\n",
    "with open(r\"/home/pk/Desktop/BioinformaticsCourse2024PK/homework/1_4/BWT_folder/sample_reads.fasta\", \"r\") as file:\n",
    "    for record in SeqIO.parse(file, \"fasta\"):\n",
    "        subsequence = str(record.seq)\n",
    "        if mutation_search(sequence, subsequence, 0):\n",
    "            count_0 += 1\n",
    "        if mutation_search(sequence, subsequence, 1):\n",
    "            count_1 += 1\n",
    "        if mutation_search(sequence, subsequence, 5):\n",
    "            count_5 += 1\n",
    "\n",
    "print('Число паттернов без мутаций -', count_0)\n",
    "print('Число паттернов с одной мутацией -', count_1)\n",
    "print('Число паттернов с пятью мутациями -', count_5)\n",
    "print(count_0+count_1+count_5)"
   ]
  },
  {
   "cell_type": "code",
   "execution_count": null,
   "metadata": {},
   "outputs": [],
   "source": []
  }
 ],
 "metadata": {
  "kernelspec": {
   "display_name": "general",
   "language": "python",
   "name": "python3"
  },
  "language_info": {
   "codemirror_mode": {
    "name": "ipython",
    "version": 3
   },
   "file_extension": ".py",
   "mimetype": "text/x-python",
   "name": "python",
   "nbconvert_exporter": "python",
   "pygments_lexer": "ipython3",
   "version": "3.10.12"
  }
 },
 "nbformat": 4,
 "nbformat_minor": 2
}
