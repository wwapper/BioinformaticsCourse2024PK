{
 "cells": [
  {
   "cell_type": "code",
   "execution_count": 1,
   "metadata": {},
   "outputs": [],
   "source": [
    "from pysuffixarray.core import SuffixArray\n",
    "from Bio import SeqIO\n",
    "import numpy as np\n",
    "import matplotlib.pyplot as plt\n",
    "import sys\n",
    "import numpy as np\n",
    "\n",
    "sys.setrecursionlimit(1000000)"
   ]
  },
  {
   "cell_type": "markdown",
   "metadata": {},
   "source": [
    "# Задача № 0\n",
    "\n",
    "Дорешайте задачу про риды и BWT из файла practice4.ipynb. В ответе помимо кода укажите количество ридов первой, второй и третьей категории, а также вкратце опишите ход решения.\n",
    "\n",
    "Это домашнее задание можно выполнять целиком в этом ноутбуке, либо алгоритмы написать в отдельном файле и импортировать сюда, для использования. В папке data лежат два файла islands.fasta и nonIslands.fasta. В них хранятся прочтения из CpG островков и из обычных участков генома соответственно, этими данными нужно будет воспользоваться в первом задании."
   ]
  },
  {
   "cell_type": "code",
   "execution_count": 2,
   "metadata": {},
   "outputs": [],
   "source": [
    "class BTW_searcher():\n",
    "    def __init__(self, sequence):\n",
    "\n",
    "        self.suffix_array = SuffixArray(sequence)\n",
    "\n",
    "        self.bwt_text = ''.join(sequence[i-1] if i != 0 else '$' for i in self.suffix_array.suffix_array())\n",
    "\n",
    "        self.occ = {letter: [0 for _ in range(len(self.bwt_text))] for letter in '$ACGT'}\n",
    "\n",
    "        for i, letter in enumerate(self.bwt_text):\n",
    "            for ch in 'ACGT':\n",
    "                if i != 0:\n",
    "                    self.occ[ch][i] = self.occ[ch][i-1]\n",
    "            if letter in self.occ.keys():\n",
    "                self.occ[letter][i] += 1\n",
    "    \n",
    "        self.count = {}\n",
    "        total = 0\n",
    "        for letter in '$ACGT':\n",
    "            self.count[letter] = total\n",
    "            total += self.bwt_text.count(letter)\n",
    "\n",
    "    def bwt_pattern_search(self, pattern):\n",
    "        top = 0\n",
    "        bottom = len(self.bwt_text) - 1\n",
    "        for letter in reversed(pattern):\n",
    "            if letter in self.occ:\n",
    "                top = self.count[letter] + (0 if top == 0 else self.occ[letter][top-1])\n",
    "                bottom = self.count[letter] + self.occ[letter][bottom] - 1\n",
    "            else:\n",
    "                return []\n",
    "            if top > bottom:\n",
    "                return []\n",
    "        return self.suffix_array.suffix_array()[top:bottom+1]\n",
    "    \n",
    "\n",
    "def get_btw(seq):\n",
    "    sa = SuffixArray(seq) \n",
    "    return ''.join(seq[i-1] if i != 0 else '$' for i in sa.suffix_array())\n"
   ]
  },
  {
   "cell_type": "code",
   "execution_count": 3,
   "metadata": {},
   "outputs": [],
   "source": [
    "seqs = SeqIO.parse(r\"/home/pk/Desktop/BioinformaticsCourse2024PK/homework/1_4/BWT_folder/genome.fa\", \"fasta\")\n",
    "\n",
    "for seq in seqs:\n",
    "    sequence = str(seq.seq)\n",
    "\n",
    "btw_text = get_btw(sequence)\n",
    "bwts = BTW_searcher(sequence)"
   ]
  },
  {
   "cell_type": "markdown",
   "metadata": {},
   "source": [
    "Риды без мутаций найти просто - нужно просто найти паттерн с помощью реализованного метода bwt_pattern_search. Если массив индексов непустой - вхождение подстроки есть"
   ]
  },
  {
   "cell_type": "code",
   "execution_count": 4,
   "metadata": {},
   "outputs": [
    {
     "name": "stdout",
     "output_type": "stream",
     "text": [
      "Число ридов без мутаций - 45\n"
     ]
    }
   ],
   "source": [
    "count = 0\n",
    "with open(r\"/home/pk/Desktop/BioinformaticsCourse2024PK/homework/1_4/BWT_folder/sample_reads.fasta\", \"r\") as file:\n",
    "    for record in SeqIO.parse(file, \"fasta\"):\n",
    "        read_sequence = str(record.seq)\n",
    "        pattern_insert = bwts.bwt_pattern_search(read_sequence)\n",
    "        if len(pattern_insert) > 0:\n",
    "            count += 1\n",
    "            #  если надо вывести конкретные риды:\n",
    "            #print(\"Processing read:\", read_sequence)\n",
    "            #print(*pattern_insert)\n",
    "print('Число ридов без мутаций -', count)"
   ]
  },
  {
   "cell_type": "markdown",
   "metadata": {},
   "source": [
    "Чтобы найти риды с несколькими мутациями (мы знаем их число - m), нужно разделить строку паттерн на (m+1) частей, и проверить, какая из них входит в последовательность (одна часть подстроки точно будет входить без ошибок в нашу строку). Если нашли вхождение - проверяем посимвольно соответствующие подстроку и часть строки. Если число несовпадающих символов равно числу m, то мы нашли подстроку в строке с заданным числом мутаций"
   ]
  },
  {
   "cell_type": "code",
   "execution_count": 5,
   "metadata": {},
   "outputs": [
    {
     "name": "stdout",
     "output_type": "stream",
     "text": [
      "Число паттернов без мутаций - 45\n",
      "Число паттернов с одной мутацией - 31\n",
      "Число паттернов с пятью мутациями - 24\n",
      "100\n"
     ]
    }
   ],
   "source": [
    "def mutation_search(sequence, subsequence, num_mutations):\n",
    "    i = 0\n",
    "    k = len(subsequence)//(num_mutations+1)\n",
    "    segments = []\n",
    "    for _ in range(num_mutations):\n",
    "        segments.append(subsequence[i:i+k])\n",
    "        i += k\n",
    "    segments.append(subsequence[i:])\n",
    "    for segment_idx, segment in enumerate(segments):\n",
    "            idxs = bwts.bwt_pattern_search(segment)\n",
    "            for idx in idxs:\n",
    "                start = idx-segment_idx*k\n",
    "                end = start + len(subsequence)\n",
    "                m = 0\n",
    "                for char_idx in range(start, end):\n",
    "                    if sequence[char_idx] != subsequence[char_idx-start]:\n",
    "                        m += 1\n",
    "                if m == num_mutations:\n",
    "                    #  если надо вывести конкретные риды:\n",
    "                    # print(\"Processing read:\", subsequence)\n",
    "                    # print(*pattern_insert)\n",
    "                    return True\n",
    "    return False\n",
    "\n",
    "count_0 = 0\n",
    "count_1 = 0\n",
    "count_5 = 0\n",
    "with open(r\"/home/pk/Desktop/BioinformaticsCourse2024PK/homework/1_4/BWT_folder/sample_reads.fasta\", \"r\") as file:\n",
    "    for record in SeqIO.parse(file, \"fasta\"):\n",
    "        subsequence = str(record.seq)\n",
    "        if mutation_search(sequence, subsequence, 0):\n",
    "            count_0 += 1\n",
    "        if mutation_search(sequence, subsequence, 1):\n",
    "            count_1 += 1\n",
    "        if mutation_search(sequence, subsequence, 5):\n",
    "            count_5 += 1\n",
    "\n",
    "print('Число паттернов без мутаций -', count_0)\n",
    "print('Число паттернов с одной мутацией -', count_1)\n",
    "print('Число паттернов с пятью мутациями -', count_5)\n",
    "print(count_0+count_1+count_5)"
   ]
  },
  {
   "cell_type": "markdown",
   "metadata": {},
   "source": [
    "# Задача № 1\n",
    "Определите частоты генерации для каждого из нуклеотидов внутри CpG островков и вне их. Посчитайте так-же частоты для всех упорядоченных пар нуклеотидов и сравните частоту пары CG внутри островков и снаружи. Сделайте вывод."
   ]
  },
  {
   "cell_type": "code",
   "execution_count": 6,
   "metadata": {},
   "outputs": [],
   "source": [
    "cpg_islands = list(SeqIO.parse(r\"/home/pk/Desktop/BioinformaticsCourse2024PK/homework/1_4/data/islands.fasta\", \"fasta\"))\n",
    "non_cpg_islands = list(SeqIO.parse(r\"/home/pk/Desktop/BioinformaticsCourse2024PK/homework/1_4/data/nonIslands.fasta\", \"fasta\"))"
   ]
  },
  {
   "cell_type": "code",
   "execution_count": 7,
   "metadata": {},
   "outputs": [],
   "source": [
    "def nucleotide_count(fasta_iterator):\n",
    "    nucleotides = {'A': 0, 'C': 0, 'G': 0, 'T': 0}\n",
    "    count = 0\n",
    "    for sequence in fasta_iterator:\n",
    "        count += len(sequence)\n",
    "        sequence = str(sequence.seq)\n",
    "        for nucleotide in sequence:\n",
    "            nucleotides[nucleotide] += 1\n",
    "    for nucleotide in nucleotides:\n",
    "        nucleotides[nucleotide] /= count\n",
    "    return nucleotides\n",
    "\n",
    "def nucleotide_pairs_count(fasta_iterator):\n",
    "    nucleotide_pairs = {'AA': 0, 'AC': 0, 'AG': 0, 'AT': 0,\n",
    "                        'CA': 0, 'CC': 0, 'CG': 0, 'CT': 0,\n",
    "                        'GA': 0, 'GC': 0, 'GG': 0, 'GT': 0, \n",
    "                        'TA': 0, 'TC': 0, 'TG': 0, 'TT': 0,\n",
    "                        }\n",
    "            \n",
    "    count = 0\n",
    "    for sequence in fasta_iterator:\n",
    "        sequence = str(sequence.seq)\n",
    "        for idx in range(len(sequence)-1):\n",
    "            count += 1\n",
    "            nucleotide_pair = sequence[idx:idx+2]\n",
    "            nucleotide_pairs[nucleotide_pair] += 1\n",
    "    for nucleotide_pair in nucleotide_pairs:\n",
    "        nucleotide_pairs[nucleotide_pair] /= count\n",
    "    return nucleotide_pairs\n",
    "\n"
   ]
  },
  {
   "cell_type": "code",
   "execution_count": 8,
   "metadata": {},
   "outputs": [
    {
     "name": "stdout",
     "output_type": "stream",
     "text": [
      "Частота нуклеотидов в CpG-островках:\n"
     ]
    },
    {
     "name": "stdout",
     "output_type": "stream",
     "text": [
      "  A\t   C\t   G\t   T\t\n",
      "0.2025  0.2964  0.2983  0.2029\n",
      "---------------------------------------\n",
      "Частота нуклеотидов не в CpG-островках:\n",
      "  A\t   C\t   G\t   T\t\n",
      "0.2893  0.1961  0.1984  0.3161\n"
     ]
    }
   ],
   "source": [
    "print('Частота нуклеотидов в CpG-островках:')\n",
    "islands_nucleotides = list(\"%.4f\" % member for member in nucleotide_count(cpg_islands).values())\n",
    "print('  A\\t', '  C\\t', '  G\\t', '  T\\t')\n",
    "print(*islands_nucleotides, sep='  ')\n",
    "print('---------------------------------------')\n",
    "print('Частота нуклеотидов не в CpG-островках:')\n",
    "non_islands_nucleotides = list(\"%.4f\" % member for member in nucleotide_count(non_cpg_islands).values())\n",
    "print('  A\\t', '  C\\t', '  G\\t', '  T\\t')\n",
    "print(*non_islands_nucleotides, sep='  ')"
   ]
  },
  {
   "cell_type": "code",
   "execution_count": 9,
   "metadata": {},
   "outputs": [
    {
     "name": "stdout",
     "output_type": "stream",
     "text": [
      "Частота пар нуклеотидов в CpG-островках:\n",
      "\t A\t C\t G\t T\t\n",
      "   A  0.0512  0.0459  0.0719  0.0334\n",
      "   C  0.0629  0.1028  0.0590  0.0717\n",
      "   G  0.0599  0.0882  0.1036  0.0467\n",
      "   T  0.0285  0.0595  0.0638  0.0510\n",
      "------------------------------------------\n",
      "Частота пар нуклеотидов не в CpG-островках:\n",
      "\t A\t C\t G\t T\t\n",
      "   A  0.0899  0.0471  0.0702  0.0821\n",
      "   C  0.0682  0.0500  0.0053  0.0727\n",
      "   G  0.0602  0.0342  0.0501  0.0539\n",
      "   T  0.0710  0.0648  0.0729  0.1075\n"
     ]
    }
   ],
   "source": [
    "print('Частота пар нуклеотидов в CpG-островках:')\n",
    "print('\\t', 'A\\t', 'C\\t', 'G\\t', 'T\\t')\n",
    "islands_pairs = list(\"%.4f\" % member for member in nucleotide_pairs_count(cpg_islands).values())\n",
    "print('   A', *islands_pairs[:4], sep='  ')\n",
    "print('   C', *islands_pairs[4:8], sep='  ')\n",
    "print('   G', *islands_pairs[8:12], sep='  ')\n",
    "print('   T', *islands_pairs[12:], sep='  ')\n",
    "print('------------------------------------------')\n",
    "print('Частота пар нуклеотидов не в CpG-островках:')\n",
    "print('\\t', 'A\\t', 'C\\t', 'G\\t', 'T\\t')\n",
    "not_islands_pairs = list(\"%.4f\" % member for member in nucleotide_pairs_count(non_cpg_islands).values())\n",
    "print('   A', *not_islands_pairs[:4], sep='  ')\n",
    "print('   C', *not_islands_pairs[4:8], sep='  ')\n",
    "print('   G', *not_islands_pairs[8:12], sep='  ')\n",
    "print('   T', *not_islands_pairs[12:], sep='  ')"
   ]
  },
  {
   "cell_type": "markdown",
   "metadata": {},
   "source": [
    "Видно, что содержание C в CpG-островах выше (а T ниже), так как в этих областях подавляется метилирование C </br>\n",
    "Также видно, насколько больше CG в CpG-островках (0.059 против 0.0053 - разница практически в 11 раз)"
   ]
  },
  {
   "cell_type": "markdown",
   "metadata": {},
   "source": [
    "# Задача № 2\n",
    "Напишите марковскую модель, которая имеет открытые состояния {A, T, G, C}, и скрытые состояния {+, -}. Когда модель в состоянии +, то вероятность генерации некоторого символа нуклеотида соответствует его частоте внутри CpG островков, вычислиному в первом задании, если состояние -, то частоте вне островков. Вероятность остаться внутри островка 0.95, а перейти в обычный геном 0.05. Для остальной части генома соответствующие вероятности 0.995 и 0.005. Саму модель можно реализовать в виде итератора, определив метод next, который возвращает пару - состояние и нуклеотид, который в этом состоянии произведен.</br>\n",
    "Воспользуйтесь данной моделью для того чтобы сгенерировать набор из 20 последовательностей длинной от 1 000 до 100 000, причем к каждой последовательности должна прилагаться последовательность состояний."
   ]
  },
  {
   "cell_type": "code",
   "execution_count": 10,
   "metadata": {},
   "outputs": [],
   "source": [
    "class cpg_HMM:\n",
    "    def __init__(self, sequence_len):\n",
    "        self.sequence_len = sequence_len\n",
    "        self.current_len = 0\n",
    "        self.cpg_nucleotides = [0.203, 0.296, 0.298, 0.203]  # A C G T\n",
    "        self.not_cpg_nucleotides = [0.290, 0.196, 0.198, 0.316]  # A C G T\n",
    "        self.cpg_next = [0.95, 0.05]  # stay move\n",
    "        self.not_cpg_next = [0.995, 0.005]  # stay move\n",
    "        self.current_state = np.random.choice(['+', '-'], p=[0.5, 0.5])\n",
    "\n",
    "    def __iter__(self):\n",
    "        return self\n",
    "    \n",
    "    def __next__(self):\n",
    "        if self.current_len < self.sequence_len:\n",
    "            self.current_len += 1\n",
    "            if self.current_state == '+':\n",
    "                nucleotide = np.random.choice(['A', 'C', 'G', 'T'], p=self.cpg_nucleotides)\n",
    "                next_state = np.random.choice(['+', '-'], p=self.cpg_next)\n",
    "            elif self.current_state == '-':\n",
    "                nucleotide = np.random.choice(['A', 'C', 'G', 'T'], p=self.not_cpg_nucleotides)\n",
    "                next_state = np.random.choice(['-', '+'], p=self.not_cpg_next)\n",
    "            current_pair = (nucleotide, self.current_state)\n",
    "            self.current_state = next_state\n",
    "            return current_pair   \n",
    "        else:\n",
    "            raise StopIteration\n",
    "\n",
    "def sequence_output(sequence_len):\n",
    "    sequence = []\n",
    "    states = []\n",
    "    sequence_iterator = cpg_HMM(sequence_len)\n",
    "    for i in sequence_iterator:\n",
    "        sequence.append(i[0])\n",
    "        states.append(i[1])\n",
    "    return sequence, states"
   ]
  },
  {
   "cell_type": "code",
   "execution_count": 11,
   "metadata": {},
   "outputs": [],
   "source": [
    "# all_sequences = []\n",
    "# all_states = []\n",
    "# for sequence_len in range(1000, 104950, 4950):\n",
    "#     sequence, states = sequence_output(sequence_len)\n",
    "#     all_sequences.append(sequence)\n",
    "#     all_states.append(states)\n",
    "#     print(*sequence, sep='')\n",
    "#     print(*states, sep='')"
   ]
  },
  {
   "cell_type": "markdown",
   "metadata": {},
   "source": [
    "# Задача № 3\n",
    "Напишите алгоритм Витерби для восстановления последовательности скрытых состояний марковской модели из второго задания. Воспользуйтесь им, воссстановив состояния тех последовательностей, которые вы получили во втором задании и посчитайте TP, TN, FP, FN по количеству правильно или ошибочно предсказанных позиций из CpG островков. "
   ]
  },
  {
   "cell_type": "code",
   "execution_count": 12,
   "metadata": {},
   "outputs": [],
   "source": [
    "def viterbi(sequence, transition_matrix, observation_matrix):\n",
    "    numbering = {'A': 0, 'C': 1, 'G': 2, 'T': 3}\n",
    "    sequence_len = len(sequence)\n",
    "    p_current_state = np.full((2, sequence_len), -np.inf).astype('float128')\n",
    "    prev_state = np.zeros((2, sequence_len)).astype('int')\n",
    "    \n",
    "    for j in range(2):\n",
    "        p_current_state[j][0] = np.log(0.5*observation_matrix[j][numbering[sequence[0]]])\n",
    "\n",
    "    for i in range(1, sequence_len):\n",
    "        current_char = numbering[sequence[i]]\n",
    "        for j in range(2):\n",
    "            for k in range(2):\n",
    "                next_state = p_current_state[k][i-1] + np.log(transition_matrix[k][j]) + np.log(observation_matrix[j][current_char])\n",
    "                if next_state > p_current_state[j][i]:\n",
    "                    prev_state[j][i] = k\n",
    "                    p_current_state[j][i] = next_state\n",
    "            \n",
    "    k = np.argmax(p_current_state, axis=1)[-1]\n",
    "    answer = np.zeros((sequence_len)).astype('int')\n",
    "    answer[-1] = k\n",
    "    for i in range(sequence_len-1, 2, -1):\n",
    "        answer[i-1] = prev_state[answer[i], i]\n",
    "    return answer\n",
    "\n",
    "\n",
    "\n",
    "def show_metrics_viterbi(sequence, states):\n",
    "    transition_matrix = np.array([[0.95, 0.05], [0.005, 0.995]])  # + -\n",
    "    observation_matrix = np.array([[0.203, 0.296, 0.298, 0.203], [0.290, 0.196, 0.198, 0.316]])  # A C G T\n",
    "    predicted = viterbi(sequence, transition_matrix, observation_matrix)\n",
    "    # print(predicted)\n",
    "    # print(*states)\n",
    "    #  positive - CpG, negative - notCpG\n",
    "    TP, TN, FP, FN = 0, 0, 0, 0\n",
    "    for i in range(len(sequence)):\n",
    "        if predicted[i] == 0 and states[i] == '+':\n",
    "            TP += 1\n",
    "        elif predicted[i] == 1 and states[i] == '-':\n",
    "            TN += 1\n",
    "        elif predicted[i] == 0 and states[i] == '-':\n",
    "            FP += 1\n",
    "        elif predicted[i] == 1 and states[i] == '+':\n",
    "            FN += 1\n",
    "    print(f'TP: {TP}, TN: {TN}, FP: {FP}, FN, {FN}')\n",
    "    # if TP != 0 or FP != 0:\n",
    "    #     print('precision', TP/(TP+FP))\n",
    "    # if TP != 0 or FN != 0:\n",
    "    #     print('recall', TP/(TP+FN))\n",
    "    # print('accuracy', (TP+TN)/(TP+TN+FP+FN))"
   ]
  },
  {
   "cell_type": "code",
   "execution_count": 13,
   "metadata": {},
   "outputs": [],
   "source": [
    "# for sequence, states in zip(all_sequences, all_states):\n",
    "#     print('length:', len(sequence))\n",
    "#     show_metrics_viterbi(sequence, states)\n",
    "#     print()"
   ]
  },
  {
   "cell_type": "markdown",
   "metadata": {},
   "source": [
    "# Задача № 4\n",
    "Напишите алгоритм вперед назад для модели из второго задания. Пользуясь этим алгоритмом найдите вероятности того, что модель находилась в состоянии + для каждой позиции строк из второго задания. Устанавливая различные пороговые значения, определите позиции соответствующие CpG островкам и посчитайте TP. Постройте график зависимости TP от выбранного порогового значения. Есть ли пороговые значения при которых TP больше чем в задании №3?"
   ]
  },
  {
   "cell_type": "code",
   "execution_count": 115,
   "metadata": {},
   "outputs": [],
   "source": [
    "class forward_backward_algo():\n",
    "    def __init__(self, sequence):\n",
    "        self.sequence_len = len(sequence)\n",
    "        self.forward = np.zeros((2, self.sequence_len)).astype('float128')\n",
    "        self.backward = np.zeros((2, self.sequence_len)).astype('float128')\n",
    "        self.transition_matrix = np.array([[0.95, 0.05], [0.005, 0.995]])  # + -\n",
    "        self.observation_matrix = np.array([[0.203, 0.296, 0.298, 0.203], [0.290, 0.196, 0.198, 0.316]])  # A C G T\n",
    "        self.numbering = {'A': 0, 'C': 1, 'G': 2, 'T': 3}\n",
    "        self.probas = np.zeros((2, self.sequence_len))\n",
    "        self.predicted_states = np.array([None for _ in range(self.probas.shape[1])])\n",
    "\n",
    "    def _alpha(self, s, t):\n",
    "        if self.forward[s][t]:\n",
    "            return self.forward[s][t]\n",
    "        fwd = 0\n",
    "        for state in range(2):\n",
    "            fwd += self._alpha(state, t-1) * self.transition_matrix[state][s]\n",
    "        fwd *= self.observation_matrix[s][self.numbering[sequence[t]]]\n",
    "        self.forward[s][t] = fwd\n",
    "        return self.forward[s][t]\n",
    "\n",
    "    def _beta(self, s, t):\n",
    "        if self.backward[s][t]:\n",
    "            return self.backward[s][t]\n",
    "        bkw = 0\n",
    "        for state in range(2):\n",
    "            bkw += self._beta(state, t+1) * self.transition_matrix[s][state] * self.observation_matrix[state][self.numbering[sequence[t+1]]]\n",
    "        self.backward[s][t] = bkw\n",
    "        return self.backward[s][t]\n",
    "\n",
    "    def get_probas(self):\n",
    "        for state in range(2):\n",
    "            self.forward[state][0] = self.observation_matrix[state][self.numbering[sequence[0]]] * 0.5\n",
    "            self.backward[state][self.sequence_len-1] = 1\n",
    "            chain_proba = 0\n",
    "        for t in range(len(sequence)):\n",
    "            chain_proba = 0\n",
    "            for state in range(2):\n",
    "                chain_proba += self._alpha(state, t) * self._beta(state, t)\n",
    "            for s in range(2):\n",
    "                self.probas[s][t] = (self._alpha(s, t) * self._beta(s, t))/chain_proba\n",
    "        return self.probas\n",
    "    \n",
    "    def get_states(self, threshold=0.5):\n",
    "        if not self.probas.all():\n",
    "            self.probas = self.get_probas()\n",
    "        for p_idx in range(self.probas.shape[1]):\n",
    "            p = self.probas[0][p_idx]\n",
    "            if p > threshold:\n",
    "                self.predicted_states[p_idx] = 0\n",
    "            else:\n",
    "                self.predicted_states[p_idx] = 1\n",
    "        return self.predicted_states\n",
    "    \n",
    "    def TP_calc(self, states, threshold=0.5):\n",
    "        self.predicted_states = self.get_states(threshold)\n",
    "        TP = 0\n",
    "        for i in range(len(sequence)):\n",
    "            if self.predicted_states[i] == 0 and states[i] == '+':\n",
    "                TP += 1\n",
    "        return TP\n"
   ]
  },
  {
   "cell_type": "code",
   "execution_count": 122,
   "metadata": {},
   "outputs": [
    {
     "ename": "KeyboardInterrupt",
     "evalue": "",
     "output_type": "error",
     "traceback": [
      "\u001b[0;31m---------------------------------------------------------------------------\u001b[0m",
      "\u001b[0;31mKeyboardInterrupt\u001b[0m                         Traceback (most recent call last)",
      "\u001b[1;32m/home/pk/Desktop/BioinformaticsCourse2024PK/homework/1_4/Solution.ipynb Cell 23\u001b[0m line \u001b[0;36m3\n\u001b[1;32m      <a href='vscode-notebook-cell:/home/pk/Desktop/BioinformaticsCourse2024PK/homework/1_4/Solution.ipynb#X62sZmlsZQ%3D%3D?line=0'>1</a>\u001b[0m sequence, states \u001b[39m=\u001b[39m sequence_output(\u001b[39m10000\u001b[39m)\n\u001b[1;32m      <a href='vscode-notebook-cell:/home/pk/Desktop/BioinformaticsCourse2024PK/homework/1_4/Solution.ipynb#X62sZmlsZQ%3D%3D?line=1'>2</a>\u001b[0m alg \u001b[39m=\u001b[39m forward_backward_algo(sequence)\n\u001b[0;32m----> <a href='vscode-notebook-cell:/home/pk/Desktop/BioinformaticsCourse2024PK/homework/1_4/Solution.ipynb#X62sZmlsZQ%3D%3D?line=2'>3</a>\u001b[0m \u001b[39mprint\u001b[39m(alg\u001b[39m.\u001b[39;49mget_probas())\n\u001b[1;32m      <a href='vscode-notebook-cell:/home/pk/Desktop/BioinformaticsCourse2024PK/homework/1_4/Solution.ipynb#X62sZmlsZQ%3D%3D?line=4'>5</a>\u001b[0m thresholds \u001b[39m=\u001b[39m []\n\u001b[1;32m      <a href='vscode-notebook-cell:/home/pk/Desktop/BioinformaticsCourse2024PK/homework/1_4/Solution.ipynb#X62sZmlsZQ%3D%3D?line=5'>6</a>\u001b[0m TPs \u001b[39m=\u001b[39m []\n",
      "\u001b[1;32m/home/pk/Desktop/BioinformaticsCourse2024PK/homework/1_4/Solution.ipynb Cell 23\u001b[0m line \u001b[0;36m3\n\u001b[1;32m     <a href='vscode-notebook-cell:/home/pk/Desktop/BioinformaticsCourse2024PK/homework/1_4/Solution.ipynb#X62sZmlsZQ%3D%3D?line=36'>37</a>\u001b[0m chain_proba \u001b[39m=\u001b[39m \u001b[39m0\u001b[39m\n\u001b[1;32m     <a href='vscode-notebook-cell:/home/pk/Desktop/BioinformaticsCourse2024PK/homework/1_4/Solution.ipynb#X62sZmlsZQ%3D%3D?line=37'>38</a>\u001b[0m \u001b[39mfor\u001b[39;00m state \u001b[39min\u001b[39;00m \u001b[39mrange\u001b[39m(\u001b[39m2\u001b[39m):\n\u001b[0;32m---> <a href='vscode-notebook-cell:/home/pk/Desktop/BioinformaticsCourse2024PK/homework/1_4/Solution.ipynb#X62sZmlsZQ%3D%3D?line=38'>39</a>\u001b[0m     chain_proba \u001b[39m+\u001b[39m\u001b[39m=\u001b[39m \u001b[39mself\u001b[39m\u001b[39m.\u001b[39m_alpha(state, t) \u001b[39m*\u001b[39m \u001b[39mself\u001b[39;49m\u001b[39m.\u001b[39;49m_beta(state, t)\n\u001b[1;32m     <a href='vscode-notebook-cell:/home/pk/Desktop/BioinformaticsCourse2024PK/homework/1_4/Solution.ipynb#X62sZmlsZQ%3D%3D?line=39'>40</a>\u001b[0m \u001b[39mfor\u001b[39;00m s \u001b[39min\u001b[39;00m \u001b[39mrange\u001b[39m(\u001b[39m2\u001b[39m):\n\u001b[1;32m     <a href='vscode-notebook-cell:/home/pk/Desktop/BioinformaticsCourse2024PK/homework/1_4/Solution.ipynb#X62sZmlsZQ%3D%3D?line=40'>41</a>\u001b[0m     \u001b[39mself\u001b[39m\u001b[39m.\u001b[39mprobas[s][t] \u001b[39m=\u001b[39m (\u001b[39mself\u001b[39m\u001b[39m.\u001b[39m_alpha(s, t) \u001b[39m*\u001b[39m \u001b[39mself\u001b[39m\u001b[39m.\u001b[39m_beta(s, t))\u001b[39m/\u001b[39mchain_proba\n",
      "\u001b[1;32m/home/pk/Desktop/BioinformaticsCourse2024PK/homework/1_4/Solution.ipynb Cell 23\u001b[0m line \u001b[0;36m2\n\u001b[1;32m     <a href='vscode-notebook-cell:/home/pk/Desktop/BioinformaticsCourse2024PK/homework/1_4/Solution.ipynb#X62sZmlsZQ%3D%3D?line=24'>25</a>\u001b[0m bkw \u001b[39m=\u001b[39m \u001b[39m0\u001b[39m\n\u001b[1;32m     <a href='vscode-notebook-cell:/home/pk/Desktop/BioinformaticsCourse2024PK/homework/1_4/Solution.ipynb#X62sZmlsZQ%3D%3D?line=25'>26</a>\u001b[0m \u001b[39mfor\u001b[39;00m state \u001b[39min\u001b[39;00m \u001b[39mrange\u001b[39m(\u001b[39m2\u001b[39m):\n\u001b[0;32m---> <a href='vscode-notebook-cell:/home/pk/Desktop/BioinformaticsCourse2024PK/homework/1_4/Solution.ipynb#X62sZmlsZQ%3D%3D?line=26'>27</a>\u001b[0m     bkw \u001b[39m+\u001b[39m\u001b[39m=\u001b[39m \u001b[39mself\u001b[39;49m\u001b[39m.\u001b[39;49m_beta(state, t\u001b[39m+\u001b[39;49m\u001b[39m1\u001b[39;49m) \u001b[39m*\u001b[39m \u001b[39mself\u001b[39m\u001b[39m.\u001b[39mtransition_matrix[s][state] \u001b[39m*\u001b[39m \u001b[39mself\u001b[39m\u001b[39m.\u001b[39mobservation_matrix[state][\u001b[39mself\u001b[39m\u001b[39m.\u001b[39mnumbering[sequence[t\u001b[39m+\u001b[39m\u001b[39m1\u001b[39m]]]\n\u001b[1;32m     <a href='vscode-notebook-cell:/home/pk/Desktop/BioinformaticsCourse2024PK/homework/1_4/Solution.ipynb#X62sZmlsZQ%3D%3D?line=27'>28</a>\u001b[0m \u001b[39mself\u001b[39m\u001b[39m.\u001b[39mbackward[s][t] \u001b[39m=\u001b[39m bkw\n\u001b[1;32m     <a href='vscode-notebook-cell:/home/pk/Desktop/BioinformaticsCourse2024PK/homework/1_4/Solution.ipynb#X62sZmlsZQ%3D%3D?line=28'>29</a>\u001b[0m \u001b[39mreturn\u001b[39;00m \u001b[39mself\u001b[39m\u001b[39m.\u001b[39mbackward[s][t]\n",
      "\u001b[1;32m/home/pk/Desktop/BioinformaticsCourse2024PK/homework/1_4/Solution.ipynb Cell 23\u001b[0m line \u001b[0;36m2\n\u001b[1;32m     <a href='vscode-notebook-cell:/home/pk/Desktop/BioinformaticsCourse2024PK/homework/1_4/Solution.ipynb#X62sZmlsZQ%3D%3D?line=24'>25</a>\u001b[0m bkw \u001b[39m=\u001b[39m \u001b[39m0\u001b[39m\n\u001b[1;32m     <a href='vscode-notebook-cell:/home/pk/Desktop/BioinformaticsCourse2024PK/homework/1_4/Solution.ipynb#X62sZmlsZQ%3D%3D?line=25'>26</a>\u001b[0m \u001b[39mfor\u001b[39;00m state \u001b[39min\u001b[39;00m \u001b[39mrange\u001b[39m(\u001b[39m2\u001b[39m):\n\u001b[0;32m---> <a href='vscode-notebook-cell:/home/pk/Desktop/BioinformaticsCourse2024PK/homework/1_4/Solution.ipynb#X62sZmlsZQ%3D%3D?line=26'>27</a>\u001b[0m     bkw \u001b[39m+\u001b[39m\u001b[39m=\u001b[39m \u001b[39mself\u001b[39;49m\u001b[39m.\u001b[39;49m_beta(state, t\u001b[39m+\u001b[39;49m\u001b[39m1\u001b[39;49m) \u001b[39m*\u001b[39m \u001b[39mself\u001b[39m\u001b[39m.\u001b[39mtransition_matrix[s][state] \u001b[39m*\u001b[39m \u001b[39mself\u001b[39m\u001b[39m.\u001b[39mobservation_matrix[state][\u001b[39mself\u001b[39m\u001b[39m.\u001b[39mnumbering[sequence[t\u001b[39m+\u001b[39m\u001b[39m1\u001b[39m]]]\n\u001b[1;32m     <a href='vscode-notebook-cell:/home/pk/Desktop/BioinformaticsCourse2024PK/homework/1_4/Solution.ipynb#X62sZmlsZQ%3D%3D?line=27'>28</a>\u001b[0m \u001b[39mself\u001b[39m\u001b[39m.\u001b[39mbackward[s][t] \u001b[39m=\u001b[39m bkw\n\u001b[1;32m     <a href='vscode-notebook-cell:/home/pk/Desktop/BioinformaticsCourse2024PK/homework/1_4/Solution.ipynb#X62sZmlsZQ%3D%3D?line=28'>29</a>\u001b[0m \u001b[39mreturn\u001b[39;00m \u001b[39mself\u001b[39m\u001b[39m.\u001b[39mbackward[s][t]\n",
      "    \u001b[0;31m[... skipping similar frames: forward_backward_algo._beta at line 27 (1672 times)]\u001b[0m\n",
      "\u001b[1;32m/home/pk/Desktop/BioinformaticsCourse2024PK/homework/1_4/Solution.ipynb Cell 23\u001b[0m line \u001b[0;36m2\n\u001b[1;32m     <a href='vscode-notebook-cell:/home/pk/Desktop/BioinformaticsCourse2024PK/homework/1_4/Solution.ipynb#X62sZmlsZQ%3D%3D?line=24'>25</a>\u001b[0m bkw \u001b[39m=\u001b[39m \u001b[39m0\u001b[39m\n\u001b[1;32m     <a href='vscode-notebook-cell:/home/pk/Desktop/BioinformaticsCourse2024PK/homework/1_4/Solution.ipynb#X62sZmlsZQ%3D%3D?line=25'>26</a>\u001b[0m \u001b[39mfor\u001b[39;00m state \u001b[39min\u001b[39;00m \u001b[39mrange\u001b[39m(\u001b[39m2\u001b[39m):\n\u001b[0;32m---> <a href='vscode-notebook-cell:/home/pk/Desktop/BioinformaticsCourse2024PK/homework/1_4/Solution.ipynb#X62sZmlsZQ%3D%3D?line=26'>27</a>\u001b[0m     bkw \u001b[39m+\u001b[39m\u001b[39m=\u001b[39m \u001b[39mself\u001b[39m\u001b[39m.\u001b[39m_beta(state, t\u001b[39m+\u001b[39m\u001b[39m1\u001b[39m) \u001b[39m*\u001b[39m \u001b[39mself\u001b[39m\u001b[39m.\u001b[39mtransition_matrix[s][state] \u001b[39m*\u001b[39m \u001b[39mself\u001b[39m\u001b[39m.\u001b[39mobservation_matrix[state][\u001b[39mself\u001b[39m\u001b[39m.\u001b[39mnumbering[sequence[t\u001b[39m+\u001b[39m\u001b[39m1\u001b[39m]]]\n\u001b[1;32m     <a href='vscode-notebook-cell:/home/pk/Desktop/BioinformaticsCourse2024PK/homework/1_4/Solution.ipynb#X62sZmlsZQ%3D%3D?line=27'>28</a>\u001b[0m \u001b[39mself\u001b[39m\u001b[39m.\u001b[39mbackward[s][t] \u001b[39m=\u001b[39m bkw\n\u001b[1;32m     <a href='vscode-notebook-cell:/home/pk/Desktop/BioinformaticsCourse2024PK/homework/1_4/Solution.ipynb#X62sZmlsZQ%3D%3D?line=28'>29</a>\u001b[0m \u001b[39mreturn\u001b[39;00m \u001b[39mself\u001b[39m\u001b[39m.\u001b[39mbackward[s][t]\n",
      "\u001b[0;31mKeyboardInterrupt\u001b[0m: "
     ]
    }
   ],
   "source": [
    "sequence, states = sequence_output(10000)\n",
    "alg = forward_backward_algo(sequence)\n",
    "print(alg.get_probas())\n",
    "\n",
    "thresholds = []\n",
    "TPs = []\n",
    "\n",
    "for threshold in range(0, 101, 1):\n",
    "    threshold /= 100\n",
    "    thresholds.append(threshold)\n",
    "    TPs.append(alg.TP_calc(states, threshold))"
   ]
  },
  {
   "cell_type": "code",
   "execution_count": 123,
   "metadata": {},
   "outputs": [
    {
     "data": {
      "image/png": "[encoded data removed]",
      "text/plain": [
       "<Figure size 640x480 with 1 Axes>"
      ]
     },
     "metadata": {},
     "output_type": "display_data"
    }
   ],
   "source": [
    "plt.plot(thresholds, TPs)\n",
    "plt.xlabel(\"Threshold\")\n",
    "plt.ylabel(\"Number of TP\")\n",
    "\n",
    "plt.show()"
   ]
  },
  {
   "cell_type": "code",
   "execution_count": null,
   "metadata": {},
   "outputs": [],
   "source": []
  }
 ],
 "metadata": {
  "kernelspec": {
   "display_name": "general",
   "language": "python",
   "name": "python3"
  },
  "language_info": {
   "codemirror_mode": {
    "name": "ipython",
    "version": 3
   },
   "file_extension": ".py",
   "mimetype": "text/x-python",
   "name": "python",
   "nbconvert_exporter": "python",
   "pygments_lexer": "ipython3",
   "version": "3.10.12"
  }
 },
 "nbformat": 4,
 "nbformat_minor": 2
}
