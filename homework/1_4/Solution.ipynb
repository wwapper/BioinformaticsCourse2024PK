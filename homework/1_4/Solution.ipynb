{
 "cells": [
  {
   "cell_type": "code",
   "execution_count": 1,
   "metadata": {},
   "outputs": [],
   "source": [
    "from pysuffixarray.core import SuffixArray\n",
    "from Bio import SeqIO\n",
    "import numpy as np\n",
    "import matplotlib.pyplot as plt\n",
    "import sys\n",
    "import numpy as np\n",
    "\n",
    "sys.setrecursionlimit(10000000)"
   ]
  },
  {
   "cell_type": "markdown",
   "metadata": {},
   "source": [
    "# Задача № 0\n",
    "\n",
    "Дорешайте задачу про риды и BWT из файла practice4.ipynb. В ответе помимо кода укажите количество ридов первой, второй и третьей категории, а также вкратце опишите ход решения.\n",
    "\n",
    "Это домашнее задание можно выполнять целиком в этом ноутбуке, либо алгоритмы написать в отдельном файле и импортировать сюда, для использования. В папке data лежат два файла islands.fasta и nonIslands.fasta. В них хранятся прочтения из CpG островков и из обычных участков генома соответственно, этими данными нужно будет воспользоваться в первом задании."
   ]
  },
  {
   "cell_type": "code",
   "execution_count": 2,
   "metadata": {},
   "outputs": [],
   "source": [
    "class BTW_searcher():\n",
    "    def __init__(self, sequence):\n",
    "\n",
    "        self.suffix_array = SuffixArray(sequence)\n",
    "\n",
    "        self.bwt_text = ''.join(sequence[i-1] if i != 0 else '$' for i in self.suffix_array.suffix_array())\n",
    "\n",
    "        self.occ = {letter: [0 for _ in range(len(self.bwt_text))] for letter in '$ACGT'}\n",
    "\n",
    "        for i, letter in enumerate(self.bwt_text):\n",
    "            for ch in 'ACGT':\n",
    "                if i != 0:\n",
    "                    self.occ[ch][i] = self.occ[ch][i-1]\n",
    "            if letter in self.occ.keys():\n",
    "                self.occ[letter][i] += 1\n",
    "    \n",
    "        self.count = {}\n",
    "        total = 0\n",
    "        for letter in '$ACGT':\n",
    "            self.count[letter] = total\n",
    "            total += self.bwt_text.count(letter)\n",
    "\n",
    "    def bwt_pattern_search(self, pattern):\n",
    "        top = 0\n",
    "        bottom = len(self.bwt_text) - 1\n",
    "        for letter in reversed(pattern):\n",
    "            if letter in self.occ:\n",
    "                top = self.count[letter] + (0 if top == 0 else self.occ[letter][top-1])\n",
    "                bottom = self.count[letter] + self.occ[letter][bottom] - 1\n",
    "            else:\n",
    "                return []\n",
    "            if top > bottom:\n",
    "                return []\n",
    "        return self.suffix_array.suffix_array()[top:bottom+1]\n",
    "    \n",
    "\n",
    "def get_btw(seq):\n",
    "    sa = SuffixArray(seq) \n",
    "    return ''.join(seq[i-1] if i != 0 else '$' for i in sa.suffix_array())\n"
   ]
  },
  {
   "cell_type": "code",
   "execution_count": 3,
   "metadata": {},
   "outputs": [],
   "source": [
    "seqs = SeqIO.parse(r\"/home/pk/Desktop/BioinformaticsCourse2024PK/homework/1_4/BWT_folder/genome.fa\", \"fasta\")\n",
    "\n",
    "for seq in seqs:\n",
    "    sequence = str(seq.seq)\n",
    "\n",
    "btw_text = get_btw(sequence)\n",
    "bwts = BTW_searcher(sequence)"
   ]
  },
  {
   "cell_type": "markdown",
   "metadata": {},
   "source": [
    "Риды без мутаций найти просто - нужно найти паттерн с помощью реализованного метода bwt_pattern_search. Если массив индексов непустой - вхождение подстроки есть"
   ]
  },
  {
   "cell_type": "code",
   "execution_count": 4,
   "metadata": {},
   "outputs": [
    {
     "name": "stdout",
     "output_type": "stream",
     "text": [
      "Число ридов без мутаций - 45\n"
     ]
    }
   ],
   "source": [
    "count = 0\n",
    "with open(r\"/home/pk/Desktop/BioinformaticsCourse2024PK/homework/1_4/BWT_folder/sample_reads.fasta\", \"r\") as file:\n",
    "    for record in SeqIO.parse(file, \"fasta\"):\n",
    "        read_sequence = str(record.seq)\n",
    "        pattern_insert = bwts.bwt_pattern_search(read_sequence)\n",
    "        if len(pattern_insert) > 0:\n",
    "            count += 1\n",
    "            #  если надо вывести конкретные риды:\n",
    "            #print(\"Processing read:\", read_sequence)\n",
    "            #print(*pattern_insert)\n",
    "print('Число ридов без мутаций -', count)"
   ]
  },
  {
   "cell_type": "markdown",
   "metadata": {},
   "source": [
    "Чтобы найти риды с несколькими мутациями (мы знаем их число - m), нужно разделить строку паттерн на (m+1) частей, и проверить, какая из них входит в последовательность (одна часть подстроки точно будет входить без ошибок в нашу строку). Если нашли вхождение - проверяем посимвольно соответствующие подстроку и часть строки. Если число несовпадающих символов равно числу m, то мы нашли подстроку в строке с заданным числом мутаций"
   ]
  },
  {
   "cell_type": "code",
   "execution_count": 5,
   "metadata": {},
   "outputs": [
    {
     "name": "stdout",
     "output_type": "stream",
     "text": [
      "Число паттернов без мутаций - 45\n",
      "Число паттернов с одной мутацией - 31\n",
      "Число паттернов с пятью мутациями - 24\n",
      "100\n"
     ]
    }
   ],
   "source": [
    "def mutation_search(sequence, subsequence, num_mutations):\n",
    "    i = 0\n",
    "    k = len(subsequence)//(num_mutations+1)\n",
    "    segments = []\n",
    "    for _ in range(num_mutations):\n",
    "        segments.append(subsequence[i:i+k])\n",
    "        i += k\n",
    "    segments.append(subsequence[i:])\n",
    "    for segment_idx, segment in enumerate(segments):\n",
    "            idxs = bwts.bwt_pattern_search(segment)\n",
    "            for idx in idxs:\n",
    "                start = idx-segment_idx*k\n",
    "                end = start + len(subsequence)\n",
    "                m = 0\n",
    "                for char_idx in range(start, end):\n",
    "                    if sequence[char_idx] != subsequence[char_idx-start]:\n",
    "                        m += 1\n",
    "                if m == num_mutations:\n",
    "                    # если надо вывести конкретные риды:\n",
    "                    # print(\"Processing read:\", subsequence)\n",
    "                    # print(*pattern_insert)\n",
    "                    return True\n",
    "    return False\n",
    "\n",
    "count_0 = 0\n",
    "count_1 = 0\n",
    "count_5 = 0\n",
    "with open(r\"/home/pk/Desktop/BioinformaticsCourse2024PK/homework/1_4/BWT_folder/sample_reads.fasta\", \"r\") as file:\n",
    "    for record in SeqIO.parse(file, \"fasta\"):\n",
    "        subsequence = str(record.seq)\n",
    "        if mutation_search(sequence, subsequence, 0):\n",
    "            count_0 += 1\n",
    "        if mutation_search(sequence, subsequence, 1):\n",
    "            count_1 += 1\n",
    "        if mutation_search(sequence, subsequence, 5):\n",
    "            count_5 += 1\n",
    "\n",
    "print('Число паттернов без мутаций -', count_0)\n",
    "print('Число паттернов с одной мутацией -', count_1)\n",
    "print('Число паттернов с пятью мутациями -', count_5)\n",
    "print(count_0+count_1+count_5)"
   ]
  },
  {
   "cell_type": "markdown",
   "metadata": {},
   "source": [
    "# Задача № 1\n",
    "Определите частоты генерации для каждого из нуклеотидов внутри CpG островков и вне их. Посчитайте также частоты для всех упорядоченных пар нуклеотидов и сравните частоту пары CG внутри островков и снаружи. Сделайте вывод."
   ]
  },
  {
   "cell_type": "code",
   "execution_count": 6,
   "metadata": {},
   "outputs": [],
   "source": [
    "cpg_islands = list(SeqIO.parse(r\"/home/pk/Desktop/BioinformaticsCourse2024PK/homework/1_4/data/islands.fasta\", \"fasta\"))\n",
    "non_cpg_islands = list(SeqIO.parse(r\"/home/pk/Desktop/BioinformaticsCourse2024PK/homework/1_4/data/nonIslands.fasta\", \"fasta\"))"
   ]
  },
  {
   "cell_type": "code",
   "execution_count": 7,
   "metadata": {},
   "outputs": [],
   "source": [
    "def nucleotide_count(fasta_iterator):\n",
    "    nucleotides = {'A': 0, 'C': 0, 'G': 0, 'T': 0}\n",
    "    count = 0\n",
    "    for sequence in fasta_iterator:\n",
    "        sequence = str(sequence.seq)\n",
    "        count += len(sequence)\n",
    "        for nucleotide in sequence:\n",
    "            nucleotides[nucleotide] += 1\n",
    "    for nucleotide in nucleotides:\n",
    "        nucleotides[nucleotide] /= count\n",
    "    return nucleotides\n",
    "\n",
    "def nucleotide_pairs_count(fasta_iterator):\n",
    "    nucleotide_pairs = {'AA': 0, 'AC': 0, 'AG': 0, 'AT': 0,\n",
    "                        'CA': 0, 'CC': 0, 'CG': 0, 'CT': 0,\n",
    "                        'GA': 0, 'GC': 0, 'GG': 0, 'GT': 0, \n",
    "                        'TA': 0, 'TC': 0, 'TG': 0, 'TT': 0,\n",
    "                        }\n",
    "            \n",
    "    count = 0\n",
    "    for sequence in fasta_iterator:\n",
    "        sequence = str(sequence.seq)\n",
    "        count += len(sequence)\n",
    "        for idx in range(len(sequence)-1):\n",
    "            nucleotide_pair = sequence[idx:idx+2]\n",
    "            nucleotide_pairs[nucleotide_pair] += 1\n",
    "    for nucleotide_pair in nucleotide_pairs:\n",
    "        nucleotide_pairs[nucleotide_pair] /= count\n",
    "    return nucleotide_pairs\n",
    "\n"
   ]
  },
  {
   "cell_type": "code",
   "execution_count": 8,
   "metadata": {},
   "outputs": [
    {
     "name": "stdout",
     "output_type": "stream",
     "text": [
      "Частота нуклеотидов в CpG-островках:\n"
     ]
    },
    {
     "name": "stdout",
     "output_type": "stream",
     "text": [
      "  A\t   C\t   G\t   T\t\n",
      "0.2025  0.2964  0.2983  0.2029\n",
      "---------------------------------------\n",
      "Частота нуклеотидов не в CpG-островках:\n",
      "  A\t   C\t   G\t   T\t\n",
      "0.2893  0.1961  0.1984  0.3161\n"
     ]
    }
   ],
   "source": [
    "print('Частота нуклеотидов в CpG-островках:')\n",
    "islands_nucleotides = list(\"%.4f\" % member for member in nucleotide_count(cpg_islands).values())\n",
    "print('  A\\t', '  C\\t', '  G\\t', '  T\\t')\n",
    "print(*islands_nucleotides, sep='  ')\n",
    "print('---------------------------------------')\n",
    "print('Частота нуклеотидов не в CpG-островках:')\n",
    "non_islands_nucleotides = list(\"%.4f\" % member for member in nucleotide_count(non_cpg_islands).values())\n",
    "print('  A\\t', '  C\\t', '  G\\t', '  T\\t')\n",
    "print(*non_islands_nucleotides, sep='  ')"
   ]
  },
  {
   "cell_type": "code",
   "execution_count": 9,
   "metadata": {},
   "outputs": [
    {
     "name": "stdout",
     "output_type": "stream",
     "text": [
      "Частота пар нуклеотидов в CpG-островках:\n",
      "\t A\t C\t G\t T\t\n",
      "   A  0.0512  0.0459  0.0719  0.0334\n",
      "   C  0.0629  0.1027  0.0590  0.0717\n",
      "   G  0.0598  0.0882  0.1035  0.0466\n",
      "   T  0.0284  0.0595  0.0638  0.0510\n",
      "------------------------------------------\n",
      "Частота пар нуклеотидов не в CpG-островках:\n",
      "\t A\t C\t G\t T\t\n",
      "   A  0.0899  0.0471  0.0702  0.0821\n",
      "   C  0.0682  0.0500  0.0053  0.0727\n",
      "   G  0.0602  0.0342  0.0501  0.0539\n",
      "   T  0.0710  0.0648  0.0729  0.1075\n"
     ]
    }
   ],
   "source": [
    "print('Частота пар нуклеотидов в CpG-островках:')\n",
    "print('\\t', 'A\\t', 'C\\t', 'G\\t', 'T\\t')\n",
    "islands_pairs = list(\"%.4f\" % member for member in nucleotide_pairs_count(cpg_islands).values())\n",
    "print('   A', *islands_pairs[:4], sep='  ')\n",
    "print('   C', *islands_pairs[4:8], sep='  ')\n",
    "print('   G', *islands_pairs[8:12], sep='  ')\n",
    "print('   T', *islands_pairs[12:], sep='  ')\n",
    "print('------------------------------------------')\n",
    "print('Частота пар нуклеотидов не в CpG-островках:')\n",
    "print('\\t', 'A\\t', 'C\\t', 'G\\t', 'T\\t')\n",
    "not_islands_pairs = list(\"%.4f\" % member for member in nucleotide_pairs_count(non_cpg_islands).values())\n",
    "print('   A', *not_islands_pairs[:4], sep='  ')\n",
    "print('   C', *not_islands_pairs[4:8], sep='  ')\n",
    "print('   G', *not_islands_pairs[8:12], sep='  ')\n",
    "print('   T', *not_islands_pairs[12:], sep='  ')"
   ]
  },
  {
   "cell_type": "markdown",
   "metadata": {},
   "source": [
    "Видно, что содержание C в CpG-островах выше (а T ниже), так как в этих областях подавляется метилирование C </br>\n",
    "Также видно, насколько больше CG в CpG-островках (0.059 против 0.0053 - разница практически в 11 раз)"
   ]
  },
  {
   "cell_type": "markdown",
   "metadata": {},
   "source": [
    "# Задача № 2\n",
    "Напишите марковскую модель, которая имеет открытые состояния {A, T, G, C}, и скрытые состояния {+, -}. Когда модель в состоянии +, то вероятность генерации некоторого символа нуклеотида соответствует его частоте внутри CpG островков, вычислиному в первом задании, если состояние -, то частоте вне островков. Вероятность остаться внутри островка 0.95, а перейти в обычный геном 0.05. Для остальной части генома соответствующие вероятности 0.995 и 0.005. Саму модель можно реализовать в виде итератора, определив метод next, который возвращает пару - состояние и нуклеотид, который в этом состоянии произведен.</br>\n",
    "Воспользуйтесь данной моделью для того чтобы сгенерировать набор из 20 последовательностей длинной от 1 000 до 100 000, причем к каждой последовательности должна прилагаться последовательность состояний."
   ]
  },
  {
   "cell_type": "code",
   "execution_count": 10,
   "metadata": {},
   "outputs": [],
   "source": [
    "class cpg_HMM:\n",
    "    def __init__(self, sequence_len):\n",
    "        self.sequence_len = sequence_len\n",
    "        self.current_len = 0\n",
    "        self.cpg_nucleotides = [0.203, 0.296, 0.298, 0.203]  # A C G T\n",
    "        self.not_cpg_nucleotides = [0.290, 0.196, 0.198, 0.316]  # A C G T\n",
    "        self.cpg_next = [0.95, 0.05]  # stay move\n",
    "        self.not_cpg_next = [0.995, 0.005]  # stay move\n",
    "        self.current_state = np.random.choice(['+', '-'], p=[0.5, 0.5])\n",
    "\n",
    "    def __iter__(self):\n",
    "        return self\n",
    "    \n",
    "    def __next__(self):\n",
    "        if self.current_len < self.sequence_len:\n",
    "            self.current_len += 1\n",
    "            if self.current_state == '+':\n",
    "                nucleotide = np.random.choice(['A', 'C', 'G', 'T'], p=self.cpg_nucleotides)\n",
    "                next_state = np.random.choice(['+', '-'], p=self.cpg_next)\n",
    "            elif self.current_state == '-':\n",
    "                nucleotide = np.random.choice(['A', 'C', 'G', 'T'], p=self.not_cpg_nucleotides)\n",
    "                next_state = np.random.choice(['-', '+'], p=self.not_cpg_next)\n",
    "            current_pair = (nucleotide, self.current_state)\n",
    "            self.current_state = next_state\n",
    "            return current_pair   \n",
    "        else:\n",
    "            raise StopIteration\n",
    "\n",
    "def sequence_output(sequence_len):\n",
    "    sequence = []\n",
    "    states = []\n",
    "    sequence_iterator = cpg_HMM(sequence_len)\n",
    "    for i in sequence_iterator:\n",
    "        sequence.append(i[0])\n",
    "        states.append(i[1])\n",
    "    return sequence, states"
   ]
  },
  {
   "cell_type": "code",
   "execution_count": 11,
   "metadata": {},
   "outputs": [],
   "source": [
    "all_sequences = []\n",
    "all_states = []\n",
    "for sequence_len in range(1000, 15700, 700):  # до 15000, так как вперед-назад не считает больше из-за глубины рекурсии\n",
    "    sequence, states = sequence_output(sequence_len)\n",
    "    all_sequences.append(sequence)\n",
    "    all_states.append(states)\n",
    "    # print(*sequence, sep='')\n",
    "    # print(*states, sep='')"
   ]
  },
  {
   "cell_type": "markdown",
   "metadata": {},
   "source": [
    "# Задача № 3\n",
    "Напишите алгоритм Витерби для восстановления последовательности скрытых состояний марковской модели из второго задания. Воспользуйтесь им, воссстановив состояния тех последовательностей, которые вы получили во втором задании и посчитайте TP, TN, FP, FN по количеству правильно или ошибочно предсказанных позиций из CpG островков. "
   ]
  },
  {
   "cell_type": "code",
   "execution_count": 12,
   "metadata": {},
   "outputs": [],
   "source": [
    "def viterbi(sequence, transition_matrix, observation_matrix):\n",
    "    numbering = {'A': 0, 'C': 1, 'G': 2, 'T': 3}\n",
    "    sequence_len = len(sequence)\n",
    "    p_current_state = np.full((2, sequence_len), -np.inf)\n",
    "    prev_state = np.zeros((2, sequence_len)).astype('int')\n",
    "    \n",
    "    for j in range(2):\n",
    "        p_current_state[j][0] = np.log(0.5 * observation_matrix[j][numbering[sequence[0]]])\n",
    "\n",
    "    for i in range(1, sequence_len):\n",
    "        current_char = numbering[sequence[i]]\n",
    "        for j in range(2):\n",
    "            for k in range(2):\n",
    "                next_state = p_current_state[k][i-1] + np.log(transition_matrix[k][j]) + np.log(observation_matrix[j][current_char])\n",
    "                if next_state > p_current_state[j][i]:\n",
    "                    prev_state[j][i] = k\n",
    "                    p_current_state[j][i] = next_state\n",
    "    \n",
    "    k = np.argmax(p_current_state[:, -1])\n",
    "    answer = np.zeros((sequence_len)).astype('int')\n",
    "    answer[-1] = k\n",
    "    for i in range(sequence_len-1, 0, -1):\n",
    "        answer[i-1] = prev_state[answer[i], i]\n",
    "    return answer\n",
    "\n",
    "\n",
    "\n",
    "def show_metrics_viterbi(sequence, states):\n",
    "    transition_matrix = np.array([[0.95, 0.05], [0.005, 0.995]])  # + -\n",
    "    observation_matrix = np.array([[0.203, 0.296, 0.298, 0.203], [0.290, 0.196, 0.198, 0.316]])  # A C G T\n",
    "    predicted = viterbi(sequence, transition_matrix, observation_matrix)\n",
    "    # print(*predicted)\n",
    "    # print(*states)\n",
    "    #  positive - CpG, negative - notCpG\n",
    "    TP, TN, FP, FN = 0, 0, 0, 0\n",
    "    for i in range(len(sequence)):\n",
    "        if predicted[i] == 0 and states[i] == '+':\n",
    "            TP += 1\n",
    "        elif predicted[i] == 1 and states[i] == '-':\n",
    "            TN += 1\n",
    "        elif predicted[i] == 0 and states[i] == '-':\n",
    "            FP += 1\n",
    "        elif predicted[i] == 1 and states[i] == '+':\n",
    "            FN += 1\n",
    "    print(f'TP: {TP}, TN: {TN}, FP: {FP}, FN, {FN}')\n",
    "    if TP != 0 or FP != 0:\n",
    "        print('precision', TP/(TP+FP))\n",
    "    if TP != 0 or FN != 0:\n",
    "        print('recall', TP/(TP+FN))\n",
    "    print('accuracy', (TP+TN)/(TP+TN+FP+FN))"
   ]
  },
  {
   "cell_type": "code",
   "execution_count": 13,
   "metadata": {},
   "outputs": [
    {
     "name": "stdout",
     "output_type": "stream",
     "text": [
      "length: 1000\n",
      "TP: 0, TN: 887, FP: 0, FN, 113\n",
      "recall 0.0\n",
      "accuracy 0.887\n",
      "\n",
      "length: 1700\n",
      "TP: 36, TN: 1458, FP: 6, FN, 200\n",
      "precision 0.8571428571428571\n",
      "recall 0.15254237288135594\n",
      "accuracy 0.8788235294117647\n",
      "\n",
      "length: 2400\n",
      "TP: 0, TN: 2191, FP: 0, FN, 209\n",
      "recall 0.0\n",
      "accuracy 0.9129166666666667\n",
      "\n",
      "length: 3100\n",
      "TP: 0, TN: 2856, FP: 0, FN, 244\n",
      "recall 0.0\n",
      "accuracy 0.9212903225806451\n",
      "\n",
      "length: 3800\n",
      "TP: 0, TN: 3583, FP: 0, FN, 217\n",
      "recall 0.0\n",
      "accuracy 0.9428947368421052\n",
      "\n",
      "length: 4500\n",
      "TP: 79, TN: 4048, FP: 0, FN, 373\n",
      "precision 1.0\n",
      "recall 0.1747787610619469\n",
      "accuracy 0.9171111111111111\n",
      "\n",
      "length: 5200\n",
      "TP: 30, TN: 4785, FP: 0, FN, 385\n",
      "precision 1.0\n",
      "recall 0.07228915662650602\n",
      "accuracy 0.9259615384615385\n",
      "\n",
      "length: 5900\n",
      "TP: 78, TN: 5476, FP: 5, FN, 341\n",
      "precision 0.9397590361445783\n",
      "recall 0.18615751789976134\n",
      "accuracy 0.9413559322033899\n",
      "\n",
      "length: 6600\n",
      "TP: 69, TN: 5947, FP: 9, FN, 575\n",
      "precision 0.8846153846153846\n",
      "recall 0.10714285714285714\n",
      "accuracy 0.9115151515151515\n",
      "\n",
      "length: 7300\n",
      "TP: 0, TN: 6690, FP: 0, FN, 610\n",
      "recall 0.0\n",
      "accuracy 0.9164383561643835\n",
      "\n",
      "length: 8000\n",
      "TP: 0, TN: 7195, FP: 0, FN, 805\n",
      "recall 0.0\n",
      "accuracy 0.899375\n",
      "\n",
      "length: 8700\n",
      "TP: 137, TN: 7715, FP: 5, FN, 843\n",
      "precision 0.9647887323943662\n",
      "recall 0.13979591836734695\n",
      "accuracy 0.9025287356321839\n",
      "\n",
      "length: 9400\n",
      "TP: 0, TN: 8463, FP: 0, FN, 937\n",
      "recall 0.0\n",
      "accuracy 0.9003191489361703\n",
      "\n",
      "length: 10100\n",
      "TP: 0, TN: 9168, FP: 0, FN, 932\n",
      "recall 0.0\n",
      "accuracy 0.9077227722772278\n",
      "\n",
      "length: 10800\n",
      "TP: 0, TN: 9432, FP: 0, FN, 1368\n",
      "recall 0.0\n",
      "accuracy 0.8733333333333333\n",
      "\n",
      "length: 11500\n",
      "TP: 113, TN: 10257, FP: 0, FN, 1130\n",
      "precision 1.0\n",
      "recall 0.09090909090909091\n",
      "accuracy 0.9017391304347826\n",
      "\n",
      "length: 12200\n",
      "TP: 72, TN: 11170, FP: 11, FN, 947\n",
      "precision 0.8674698795180723\n",
      "recall 0.07065750736015702\n",
      "accuracy 0.9214754098360656\n",
      "\n",
      "length: 12900\n",
      "TP: 34, TN: 11836, FP: 15, FN, 1015\n",
      "precision 0.6938775510204082\n",
      "recall 0.032411820781696854\n",
      "accuracy 0.92015503875969\n",
      "\n",
      "length: 13600\n",
      "TP: 63, TN: 12373, FP: 29, FN, 1135\n",
      "precision 0.6847826086956522\n",
      "recall 0.052587646076794656\n",
      "accuracy 0.9144117647058824\n",
      "\n",
      "length: 14300\n",
      "TP: 0, TN: 13230, FP: 0, FN, 1070\n",
      "recall 0.0\n",
      "accuracy 0.9251748251748252\n",
      "\n",
      "length: 15000\n",
      "TP: 246, TN: 13315, FP: 17, FN, 1422\n",
      "precision 0.935361216730038\n",
      "recall 0.1474820143884892\n",
      "accuracy 0.9040666666666667\n",
      "\n"
     ]
    }
   ],
   "source": [
    "for sequence, states in zip(all_sequences, all_states):\n",
    "    print('length:', len(sequence))\n",
    "    show_metrics_viterbi(sequence, states)\n",
    "    print()"
   ]
  },
  {
   "cell_type": "markdown",
   "metadata": {},
   "source": [
    "# Задача № 4\n",
    "Напишите алгоритм вперед-назад для модели из второго задания. Пользуясь этим алгоритмом найдите вероятности того, что модель находилась в состоянии + для каждой позиции строк из второго задания. Устанавливая различные пороговые значения, определите позиции соответствующие CpG островкам и посчитайте TP. Постройте график зависимости TP от выбранного порогового значения. Есть ли пороговые значения при которых TP больше чем в задании №3?"
   ]
  },
  {
   "cell_type": "code",
   "execution_count": 14,
   "metadata": {},
   "outputs": [],
   "source": [
    "class forward_backward_algo():\n",
    "    def __init__(self, sequence):\n",
    "        self.sequence = sequence\n",
    "        self.sequence_len = len(self.sequence)\n",
    "        self.forward = np.full((2, self.sequence_len), None)\n",
    "        self.backward = np.full((2, self.sequence_len), None)\n",
    "        self.transition_matrix = np.array([[0.95, 0.05], [0.005, 0.995]])  # + -\n",
    "        self.observation_matrix = np.array([[0.203, 0.296, 0.298, 0.203], [0.290, 0.196, 0.198, 0.316]])  # A C G T\n",
    "        self.numbering = {'A': 0, 'C': 1, 'G': 2, 'T': 3}\n",
    "        self.probas = np.zeros((2, self.sequence_len))\n",
    "        self.predicted_states = np.array([None for _ in range(self.probas.shape[1])])\n",
    "\n",
    "    def _alpha(self, s, t):\n",
    "        if self.forward[s][t] != None:\n",
    "            return self.forward[s][t]\n",
    "        fwd = self._alpha(0, t-1) + np.log(self.transition_matrix[0][s]) + np.log(self.observation_matrix[s][self.numbering[self.sequence[t]]])\n",
    "        fwd = np.logaddexp(fwd,  (self._alpha(1, t-1) + np.log(self.transition_matrix[1][s]) + np.log(self.observation_matrix[s][self.numbering[self.sequence[t]]])))\n",
    "        self.forward[s][t] = fwd\n",
    "        return self.forward[s][t]\n",
    "\n",
    "    def _beta(self, s, t):\n",
    "        if self.backward[s][t] != None:\n",
    "            return self.backward[s][t]\n",
    "        bkw = self._beta(0, t+1) + np.log(self.transition_matrix[s][0]) + np.log(self.observation_matrix[0][self.numbering[self.sequence[t+1]]])\n",
    "        bkw = np.logaddexp(bkw, (self._beta(1, t+1) + np.log(self.transition_matrix[s][1]) + np.log(self.observation_matrix[1][self.numbering[self.sequence[t+1]]])))\n",
    "        self.backward[s][t] = bkw\n",
    "        return self.backward[s][t]\n",
    "\n",
    "    def get_probas(self):\n",
    "        for state in range(2):\n",
    "            self.forward[state][0] = np.log(self.observation_matrix[state][self.numbering[self.sequence[0]]] * 0.5)\n",
    "            self.backward[state][self.sequence_len-1] = np.log(1)\n",
    "        chain_proba = self._alpha(0, 0) + self._beta(0, 0)\n",
    "        chain_proba = np.logaddexp(chain_proba, (self._alpha(1, 0) + self._beta(1, 0)))\n",
    "        for s in range(2):\n",
    "            for t in range(self.sequence_len):\n",
    "                self.probas[s][t] = np.exp((self._alpha(s, t) + self._beta(s, t) - chain_proba))\n",
    "        return self.probas\n",
    "    \n",
    "    def get_states(self, threshold=0.5):\n",
    "        if not self.probas.all():\n",
    "            self.probas = self.get_probas()\n",
    "        for p_idx in range(self.probas.shape[1]):\n",
    "            p = self.probas[0][p_idx]\n",
    "            if p > threshold:\n",
    "                self.predicted_states[p_idx] = 0\n",
    "            else:\n",
    "                self.predicted_states[p_idx] = 1\n",
    "        return self.predicted_states\n",
    "    \n",
    "    def TP_calc(self, states, threshold=0.5):\n",
    "        self.predicted_states = self.get_states(threshold)\n",
    "        TP = 0\n",
    "        for i in range(self.sequence_len):\n",
    "            if self.predicted_states[i] == 0 and states[i] == '+':\n",
    "                TP += 1\n",
    "        return TP\n",
    "    \n",
    "    def plot_ROC(self, states):\n",
    "        TPR = []\n",
    "        FPR = []\n",
    "        for threshold in range(0, 101, 1):\n",
    "            threshold /= 100\n",
    "            predicted = self.get_states(threshold)\n",
    "            TP, TN, FP, FN = 0, 0, 0, 0\n",
    "            for i in range(len(self.sequence)):\n",
    "                if predicted[i] == 0 and states[i] == '+':\n",
    "                    TP += 1\n",
    "                elif predicted[i] == 1 and states[i] == '-':\n",
    "                    TN += 1\n",
    "                elif predicted[i] == 0 and states[i] == '-':\n",
    "                    FP += 1\n",
    "                elif predicted[i] == 1 and states[i] == '+':\n",
    "                    FN += 1\n",
    "            TPR.append(TP/(TP+FN))\n",
    "            FPR.append(FP/(FP+TN))\n",
    "        plt.plot(FPR, TPR)\n",
    "        plt.title('ROC')\n",
    "        plt.xlabel('FPR')\n",
    "        plt.ylabel('TPR')\n",
    "        plt.show()\n"
   ]
  },
  {
   "cell_type": "code",
   "execution_count": 15,
   "metadata": {},
   "outputs": [
    {
     "name": "stdout",
     "output_type": "stream",
     "text": [
      "Для 1000 п.н.:\n",
      "G    T    T    T    G    A    G    A    A    T    T    C    A    A    G    T    A    T    C    C    A    C    T    C    C    G    C    T    A    A    G    A    G    A    T    G    T    T    G    A    A    G    T    T    T    A    C    C    G    A    A    A    T    T    A    T    A    G    G    G    A    T    G    G    A    G    C    A    C    T    T    A    A    G    T    C    A    T    G    C    A    G    C    C    A    T    T    A    G    A    C    C    C    T    G    C    T    T    A    C    A    A    C    T    A    T    T    C    T    C    C    A    T    T    G    C    T    A    C    A    T    C    T    A    A    C    A    G    A    A    A    T    G    C    T    C    C    T    A    T    C    T    G    A    T    A    C    T    C    C    C    A    C    G    A    T    A    A    C    C    T    C    A    A    A    T    T    T    G    G    A    T    T    T    C    A    C    C    C    C    G    T    A    A    T    T    A    A    G    T    T    G    T    A    A    A    C    A    G    T    G    A    G    A    C    C    C    G    A    T    C    G    A    G    C    A    G    A    C    A    T    G    G    T    C    T    A    C    C    T    G    G    C    C    G    T    T    T    T    C    G    T    T    A    T    C    G    C    T    T    A    C    G    G    C    C    T    C    C    C    T    C    T    A    C    G    A    T    G    T    T    A    C    G    C    T    A    A    T    T    T    A    T    A    A    C    A    A    G    G    A    A    A    T    T    A    T    T    G    A    C    A    A    A    T    G    T    T    G    A    C    T    C    C    T    C    C    A    G    G    G    G    T    G    A    C    G    G    T    C    T    T    G    G    T    C    A    A    G    T    G    C    C    A    T    A    T    C    C    A    T    A    G    C    T    T    A    C    A    A    T    T    T    G    C    C    G    A    A    A    A    T    C    T    A    T    A    A    A    A    T    A    A    T    C    A    C    T    A    G    T    A    T    A    C    A    G    T    A    G    T    T    C    A    C    G    A    T    G    G    T    T    T    G    G    A    G    G    T    G    G    A    T    A    T    A    C    G    C    C    T    T    A    A    G    C    T    G    C    A    T    T    C    G    T    A    C    T    T    G    C    T    C    T    C    T    C    G    A    A    T    G    T    T    T    C    G    G    T    T    A    T    C    C    G    G    G    G    A    T    A    G    G    A    A    A    T    G    T    T    G    G    T    A    G    G    A    A    T    G    A    G    A    A    T    T    A    G    T    C    G    A    A    T    A    A    T    T    C    C    A    C    A    G    T    A    C    A    A    G    T    T    A    C    C    A    C    T    T    G    G    C    C    C    C    G    T    G    A    G    C    A    T    C    C    A    T    G    T    G    T    G    T    A    T    T    C    T    G    C    T    C    T    G    A    T    T    C    A    T    G    C    C    G    T    T    T    T    A    C    A    G    G    T    C    C    A    C    C    G    T    T    G    C    C    C    T    A    T    T    T    G    C    G    G    A    G    T    T    T    C    C    C    T    G    G    C    G    G    G    G    C    T    A    G    T    A    T    A    T    C    A    C    G    G    A    C    A    G    T    T    A    A    T    A    G    G    C    A    A    G    A    A    A    A    T    T    T    C    T    T    T    A    A    T    A    A    C    T    T    G    G    C    C    A    G    A    G    G    T    G    C    C    T    A    A    T    A    A    A    T    A    A    A    G    T    A    C    A    G    A    T    T    G    A    T    C    A    A    G    G    C    G    A    T    T    A    A    T    T    C    C    T    T    T    T    A    T    A    C    A    T    A    G    T    G    A    T    A    A    A    A    T    C    T    G    G    C    A    T    C    T    T    A    C    A    A    T    A    T    T    G    C    T    G    C    T    G    A    C    A    G    T    G    T    G    A    A    A    T    A    A    T    T    C    C    T    T    C    T    T    C    T    G    C    A    T    A    A    G    T    G    A    A    C    T    T    T    A    A    T    G    C    A    G    T    G    A    T    G    G    A    T    T    A    T    G    A    A    A    C    T    G    T    C    G    A    G    T    A    A    T    T    G    T    A    T    A    T    A    A    A    A    A    A    G    T    G    C    G    C    G    A    G    T    T    C    G    C    A    T    A    T    A    C    A    T    T    G    A    G    T    T    A    A    T    G    T    G    A    A    T    T    A    A    A    A    C    T    T    T    C    T    C    T    G    T    G    A    T    A    C    T    C    G    C    T    T    C    A    T    G    A    A    G    A    G    A    T    A    G    A    A    C    T    C    G    A    G    C    T    A    A    T    T    C    G    G    A    C    G    A    G    A    A    C    A    C    G    T    A    A    C    A    A    T    C    C    T    A    C    C    T    T    A    T    G    T    C    G    T    C    A    A    A    G    A    C    T    G\n",
      "+    -    -    -    -    -    -    -    -    -    -    -    -    -    -    -    -    -    -    -    -    -    -    -    -    -    -    -    -    -    -    -    -    -    -    -    -    -    -    -    -    -    -    -    -    -    -    -    -    -    -    -    -    -    -    -    -    -    -    -    -    -    -    -    -    -    -    -    -    -    -    -    -    -    -    -    -    -    -    -    -    -    -    -    -    -    -    -    -    -    -    -    -    -    -    -    -    -    -    -    -    -    -    -    -    -    -    -    -    -    -    -    -    -    -    -    -    -    -    -    -    -    -    -    -    -    -    -    -    -    -    -    -    -    -    -    -    -    -    -    -    -    -    -    -    -    -    -    -    -    -    -    -    -    -    -    -    -    -    -    -    -    -    -    -    -    -    -    -    -    -    -    -    -    -    -    -    -    -    -    -    -    -    -    -    -    -    -    -    -    -    -    -    -    -    -    -    -    -    -    -    -    -    -    -    -    -    -    -    -    -    -    -    -    -    -    -    -    -    -    -    -    -    -    -    -    -    -    -    -    -    -    -    -    -    -    -    -    -    -    -    -    -    -    -    -    -    -    -    -    -    -    -    +    +    +    +    +    +    +    +    +    +    +    +    +    +    +    +    +    +    +    +    +    +    +    +    -    -    -    -    -    -    -    -    -    -    -    -    -    -    -    -    -    -    -    -    -    -    -    -    -    -    -    -    -    -    -    -    -    -    -    -    -    -    -    -    -    -    -    -    -    -    -    -    -    -    -    -    -    -    -    -    -    -    -    -    -    -    -    -    -    -    -    -    -    -    -    -    -    -    -    -    -    -    -    -    -    -    -    -    -    -    -    -    -    -    -    -    -    -    -    -    -    -    -    -    -    -    -    -    -    -    -    -    -    -    -    -    -    -    -    -    -    -    -    -    -    -    -    -    -    -    -    -    -    -    -    -    -    -    -    -    -    -    -    -    -    -    -    -    -    -    -    -    -    -    -    -    -    -    -    -    -    -    -    -    -    -    -    -    -    -    -    -    -    -    -    -    -    -    -    -    -    -    -    -    -    -    -    -    -    -    -    -    -    -    -    -    -    -    -    -    -    -    -    -    -    -    -    -    -    -    -    -    -    -    -    -    -    -    -    -    -    -    -    -    -    -    -    -    -    -    -    -    -    -    -    -    -    -    -    -    -    -    -    -    -    -    -    -    -    -    -    -    -    -    -    -    -    -    -    -    +    +    +    +    +    +    +    +    +    +    +    +    +    +    +    +    +    +    +    +    +    +    +    +    -    -    -    -    -    -    -    -    -    -    -    +    +    +    -    -    -    -    -    -    -    -    +    +    +    +    +    +    +    +    +    +    +    +    +    +    +    +    +    +    +    +    +    +    +    +    +    +    +    +    +    +    +    +    +    +    +    +    +    +    +    +    +    +    +    +    +    +    +    +    +    +    +    +    +    +    +    +    +    +    +    +    +    -    -    -    -    -    -    -    -    -    -    -    -    -    -    -    -    -    -    -    -    -    -    -    -    -    -    -    -    -    -    -    -    -    -    -    -    -    -    -    -    -    -    -    -    -    -    -    -    -    -    -    -    -    -    -    -    -    -    -    -    -    -    -    -    -    -    -    -    -    -    -    -    -    -    -    -    -    -    -    -    -    -    -    -    -    -    -    -    -    -    -    -    -    -    -    -    -    -    -    -    -    -    -    -    -    -    -    -    -    -    -    -    -    -    -    -    -    -    -    -    -    -    -    -    -    -    -    -    -    -    -    -    -    -    -    -    -    -    -    -    -    -    -    -    -    -    -    -    -    -    -    -    -    -    -    -    -    -    -    -    -    -    -    -    -    -    -    -    -    -    -    -    -    -    -    -    -    -    -    -    -    -    -    -    -    -    -    -    -    -    -    -    -    -    -    -    -    -    -    -    -    -    -    -    -    -    -    -    -    -    -    -    -    -    -    -    -    -    -    -    -    -    -    -    -    -    -    -    -    -    -    -    -    -    -    -    -    -    -    -    -    -    -    -    -    -    -    -    -    -    -    -    -    -    -    -    -    -    -    -    -    -    -    -    -    -    -    -    -    -    -    -    -    -    -    -    -    -    -    -    -    -    -    -    -    -    -    -    -    -    -    -    -    -    -    -    -    -    -    -    -    -    -    -    -    -    -    -    -    -    -    -    -    -    -    -    -    -    -    -    -    -    -    -    -    -    -    -    -    -    -    -    -    -    -    -    -    -    -    -    -    -    -    -    -    -    -    -    -    -    -    -    -    -    -    -    -    -    -    -\n",
      "0.25 0.19 0.16 0.14 0.12 0.11 0.09 0.08 0.06 0.06 0.05 0.05 0.05 0.05 0.05 0.05 0.05 0.06 0.06 0.07 0.07 0.07 0.07 0.08 0.08 0.07 0.07 0.05 0.05 0.04 0.04 0.03 0.03 0.03 0.02 0.02 0.02 0.02 0.02 0.01 0.01 0.01 0.01 0.01 0.01 0.01 0.02 0.02 0.02 0.01 0.01 0.01 0.01 0.01 0.01 0.02 0.03 0.04 0.04 0.04 0.04 0.05 0.05 0.05 0.05 0.06 0.05 0.05 0.05 0.04 0.04 0.04 0.04 0.04 0.05 0.05 0.05 0.05 0.06 0.07 0.07 0.07 0.07 0.07 0.06 0.05 0.05 0.05 0.06 0.06 0.06 0.07 0.06 0.06 0.05 0.05 0.04 0.03 0.03 0.03 0.02 0.02 0.02 0.01 0.01 0.01 0.01 0.02 0.02 0.02 0.02 0.02 0.02 0.02 0.02 0.02 0.01 0.01 0.01 0.01 0.01 0.01 0.01 0.01 0.01 0.01 0.01 0.02 0.01 0.01 0.02 0.02 0.02 0.03 0.03 0.03 0.03 0.02 0.02 0.02 0.03 0.03 0.03 0.03 0.03 0.03 0.04 0.04 0.05 0.05 0.05 0.05 0.05 0.04 0.03 0.03 0.03 0.03 0.03 0.03 0.02 0.02 0.02 0.01 0.01 0.01 0.01 0.01 0.02 0.02 0.02 0.02 0.02 0.02 0.03 0.04 0.04 0.05 0.05 0.04 0.04 0.03 0.02 0.02 0.02 0.01 0.02 0.02 0.02 0.02 0.03 0.03 0.03 0.04 0.05 0.06 0.09 0.10 0.12 0.14 0.16 0.18 0.20 0.22 0.24 0.26 0.27 0.27 0.27 0.27 0.28 0.29 0.29 0.29 0.29 0.28 0.28 0.28 0.27 0.27 0.27 0.27 0.27 0.27 0.27 0.27 0.27 0.28 0.28 0.28 0.28 0.28 0.28 0.26 0.24 0.21 0.19 0.18 0.17 0.17 0.17 0.16 0.16 0.16 0.17 0.19 0.20 0.20 0.20 0.21 0.22 0.24 0.25 0.26 0.26 0.26 0.24 0.24 0.23 0.21 0.19 0.17 0.15 0.14 0.13 0.11 0.09 0.08 0.07 0.06 0.05 0.05 0.05 0.04 0.04 0.02 0.02 0.01 0.01 0.01 0.00 0.00 0.00 0.01 0.01 0.01 0.01 0.01 0.01 0.01 0.01 0.01 0.01 0.01 0.01 0.01 0.01 0.01 0.02 0.02 0.02 0.03 0.03 0.03 0.04 0.06 0.07 0.09 0.12 0.13 0.16 0.18 0.22 0.24 0.25 0.27 0.29 0.30 0.31 0.32 0.32 0.32 0.31 0.31 0.30 0.30 0.29 0.27 0.25 0.24 0.21 0.20 0.20 0.19 0.17 0.16 0.15 0.14 0.14 0.13 0.12 0.12 0.10 0.08 0.07 0.06 0.05 0.05 0.05 0.04 0.03 0.03 0.03 0.03 0.02 0.02 0.02 0.02 0.01 0.01 0.01 0.01 0.02 0.02 0.02 0.02 0.02 0.01 0.01 0.01 0.01 0.01 0.01 0.00 0.00 0.00 0.00 0.00 0.00 0.00 0.00 0.00 0.00 0.00 0.01 0.01 0.01 0.01 0.01 0.01 0.01 0.01 0.01 0.01 0.01 0.01 0.02 0.02 0.02 0.02 0.02 0.03 0.03 0.03 0.04 0.04 0.04 0.04 0.04 0.05 0.04 0.04 0.05 0.06 0.06 0.06 0.06 0.06 0.06 0.06 0.06 0.05 0.04 0.04 0.04 0.05 0.05 0.06 0.06 0.06 0.05 0.04 0.04 0.05 0.05 0.05 0.05 0.05 0.05 0.04 0.04 0.04 0.04 0.04 0.04 0.04 0.04 0.04 0.04 0.05 0.05 0.05 0.05 0.05 0.05 0.04 0.05 0.04 0.04 0.04 0.04 0.04 0.04 0.04 0.04 0.05 0.05 0.06 0.05 0.05 0.06 0.07 0.08 0.09 0.09 0.09 0.09 0.08 0.07 0.06 0.05 0.05 0.05 0.04 0.03 0.03 0.03 0.03 0.02 0.02 0.03 0.03 0.02 0.02 0.02 0.02 0.02 0.02 0.01 0.02 0.01 0.01 0.01 0.01 0.01 0.01 0.01 0.01 0.01 0.01 0.01 0.01 0.01 0.01 0.01 0.01 0.02 0.02 0.03 0.03 0.04 0.04 0.04 0.04 0.05 0.05 0.06 0.06 0.06 0.07 0.08 0.09 0.11 0.14 0.15 0.17 0.18 0.19 0.22 0.25 0.27 0.29 0.30 0.30 0.29 0.28 0.27 0.26 0.24 0.23 0.22 0.19 0.18 0.17 0.16 0.13 0.12 0.11 0.10 0.09 0.08 0.08 0.07 0.06 0.06 0.06 0.06 0.06 0.07 0.07 0.07 0.07 0.06 0.07 0.06 0.06 0.07 0.08 0.08 0.09 0.10 0.11 0.11 0.11 0.11 0.11 0.11 0.12 0.14 0.17 0.19 0.22 0.24 0.25 0.27 0.29 0.29 0.31 0.32 0.32 0.31 0.31 0.32 0.33 0.33 0.32 0.30 0.30 0.30 0.30 0.32 0.35 0.37 0.38 0.38 0.38 0.38 0.38 0.39 0.40 0.43 0.45 0.46 0.47 0.48 0.48 0.48 0.48 0.47 0.44 0.41 0.36 0.29 0.25 0.22 0.17 0.15 0.13 0.12 0.12 0.12 0.12 0.12 0.11 0.11 0.09 0.08 0.07 0.06 0.04 0.03 0.03 0.03 0.02 0.03 0.03 0.03 0.03 0.02 0.02 0.01 0.01 0.01 0.01 0.00 0.00 0.00 0.00 0.00 0.00 0.00 0.00 0.01 0.01 0.01 0.01 0.02 0.03 0.04 0.05 0.06 0.07 0.08 0.08 0.08 0.08 0.08 0.08 0.08 0.07 0.07 0.06 0.05 0.03 0.02 0.02 0.01 0.01 0.01 0.01 0.01 0.01 0.01 0.01 0.01 0.01 0.01 0.01 0.01 0.01 0.01 0.01 0.01 0.01 0.01 0.01 0.02 0.02 0.02 0.02 0.03 0.03 0.02 0.01 0.01 0.01 0.01 0.01 0.01 0.01 0.01 0.01 0.00 0.00 0.00 0.00 0.00 0.00 0.00 0.00 0.00 0.00 0.01 0.01 0.01 0.01 0.01 0.00 0.00 0.01 0.01 0.01 0.01 0.01 0.02 0.02 0.02 0.02 0.02 0.01 0.01 0.01 0.01 0.01 0.01 0.01 0.01 0.01 0.01 0.01 0.02 0.02 0.03 0.03 0.03 0.03 0.03 0.03 0.03 0.03 0.03 0.03 0.02 0.02 0.02 0.02 0.01 0.01 0.01 0.01 0.01 0.01 0.01 0.01 0.01 0.01 0.01 0.01 0.01 0.01 0.01 0.01 0.01 0.01 0.01 0.01 0.01 0.01 0.01 0.01 0.01 0.01 0.01 0.01 0.01 0.01 0.01 0.01 0.01 0.01 0.01 0.01 0.02 0.02 0.02 0.02 0.02 0.01 0.01 0.01 0.01 0.01 0.01 0.01 0.01 0.01 0.01 0.01 0.01 0.01 0.01 0.01 0.02 0.02 0.02 0.02 0.01 0.01 0.01 0.01 0.01 0.00 0.00 0.01 0.00 0.00 0.00 0.00 0.00 0.01 0.01 0.01 0.01 0.02 0.03 0.04 0.05 0.06 0.07 0.08 0.08 0.07 0.07 0.06 0.06 0.05 0.05 0.05 0.04 0.03 0.02 0.02 0.01 0.01 0.01 0.01 0.01 0.01 0.01 0.01 0.01 0.01 0.00 0.00 0.00 0.00 0.01 0.01 0.01 0.00 0.00 0.00 0.00 0.00 0.00 0.00 0.00 0.01 0.01 0.01 0.01 0.01 0.01 0.02 0.02 0.02 0.02 0.02 0.02 0.02 0.02 0.03 0.03 0.03 0.03 0.03 0.03 0.02 0.02 0.02 0.02 0.02 0.02 0.02 0.02 0.02 0.02 0.02 0.02 0.02 0.03 0.03 0.03 0.04 0.04 0.05 0.05 0.05 0.05 0.05 0.04 0.04 0.04 0.04 0.05 0.06 0.07 0.07 0.07 0.07 0.07 0.07 0.06 0.06 0.05 0.05 0.05 0.05 0.05 0.04 0.03 0.03 0.03 0.03 0.03 0.03 0.03 0.03 0.03 0.03 0.03 0.03 0.03 0.02 0.02 0.03 0.03 0.03 0.04 0.04 0.04 0.04 0.04 0.04 0.04 0.05 0.05 0.06 0.06 0.06\n",
      "\n"
     ]
    }
   ],
   "source": [
    "# слишком большой вывод\n",
    "# for sequence, states in zip(all_sequences, all_states):\n",
    "    # alg = forward_backward_algo(sequence)\n",
    "    # print('length:', len(sequence))\n",
    "    # # print(alg.get_probas())\n",
    "    # print(*sequence, sep='    ')\n",
    "    # print(*states, sep='    ')\n",
    "    # print(*[f\"{i:.{2}f}\" for i in alg.get_probas()[0]])\n",
    "    # print()\n",
    "\n",
    "alg = forward_backward_algo(all_sequences[0])\n",
    "print('Для 1000 п.н.:')\n",
    "print(*all_sequences[0], sep='    ')\n",
    "print(*all_states[0], sep='    ')\n",
    "print(*[f\"{i:.{2}f}\" for i in alg.get_probas()[0]])\n",
    "print()"
   ]
  },
  {
   "cell_type": "markdown",
   "metadata": {},
   "source": [
    "Для последовательности из 15000 п.н.:"
   ]
  },
  {
   "cell_type": "code",
   "execution_count": 16,
   "metadata": {},
   "outputs": [
    {
     "name": "stdout",
     "output_type": "stream",
     "text": [
      "Number of + states:\n",
      "1668\n",
      "\n",
      "Viterbi algorithm:\n",
      "TP: 246, TN: 13315, FP: 17, FN, 1422\n",
      "precision 0.935361216730038\n",
      "recall 0.1474820143884892\n",
      "accuracy 0.9040666666666667\n",
      "\n",
      "Forward-backward algorithm:\n"
     ]
    },
    {
     "data": {
      "image/png": "[encoded data removed]",
      "text/plain": [
       "<Figure size 640x480 with 1 Axes>"
      ]
     },
     "metadata": {},
     "output_type": "display_data"
    },
    {
     "data": {
      "image/png": "[encoded data removed]",
      "text/plain": [
       "<Figure size 640x480 with 1 Axes>"
      ]
     },
     "metadata": {},
     "output_type": "display_data"
    }
   ],
   "source": [
    "sequence, states = all_sequences[-1], all_states[-1]\n",
    "\n",
    "print('Number of + states:', states.count('+'), sep='\\n', end='\\n\\n')\n",
    "\n",
    "print('Viterbi algorithm:')\n",
    "show_metrics_viterbi(sequence, states)\n",
    "print()\n",
    "\n",
    "thresholds = []\n",
    "TPs = []\n",
    "\n",
    "print('Forward-backward algorithm:')\n",
    "alg = forward_backward_algo(sequence)\n",
    "for threshold in range(0, 101, 1):\n",
    "    threshold /= 100\n",
    "    thresholds.append(threshold)\n",
    "    TPs.append(alg.TP_calc(states, threshold))\n",
    "\n",
    "plt.plot(thresholds, TPs)\n",
    "plt.xlabel(\"Threshold\")\n",
    "plt.ylabel(\"Number of TP\")\n",
    "\n",
    "plt.show()\n",
    "\n",
    "alg.plot_ROC(states)"
   ]
  },
  {
   "cell_type": "markdown",
   "metadata": {},
   "source": [
    "Видно, что при пороговом значении меньшим 0.8, значение TP больше, чем в алгоритме Витерби для той же последовательности"
   ]
  },
  {
   "cell_type": "code",
   "execution_count": null,
   "metadata": {},
   "outputs": [],
   "source": []
  }
 ],
 "metadata": {
  "kernelspec": {
   "display_name": "general",
   "language": "python",
   "name": "python3"
  },
  "language_info": {
   "codemirror_mode": {
    "name": "ipython",
    "version": 3
   },
   "file_extension": ".py",
   "mimetype": "text/x-python",
   "name": "python",
   "nbconvert_exporter": "python",
   "pygments_lexer": "ipython3",
   "version": "3.10.12"
  }
 },
 "nbformat": 4,
 "nbformat_minor": 2
}
