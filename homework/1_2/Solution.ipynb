{
 "cells": [
  {
   "cell_type": "code",
   "execution_count": 1,
   "metadata": {},
   "outputs": [
    {
     "name": "stderr",
     "output_type": "stream",
     "text": [
      "d:\\Python\\envs\\.general\\Lib\\site-packages\\Bio\\pairwise2.py:278: BiopythonDeprecationWarning: Bio.pairwise2 has been deprecated, and we intend to remove it in a future release of Biopython. As an alternative, please consider using Bio.Align.PairwiseAligner as a replacement, and contact the Biopython developers if you still need the Bio.pairwise2 module.\n",
      "  warnings.warn(\n"
     ]
    }
   ],
   "source": [
    "import Bio\n",
    "from Bio import pairwise2\n",
    "from Bio import SeqIO\n",
    "from Bio.Align import substitution_matrices\n",
    "import random"
   ]
  },
  {
   "cell_type": "code",
   "execution_count": 2,
   "metadata": {},
   "outputs": [
    {
     "name": "stdout",
     "output_type": "stream",
     "text": [
      "Read sequence from file:\n",
      "ID: NC_000023\n",
      "Description: NC_000023\n",
      "Sequence: AAGTGCTTGGGGCGGCGAGCATGGCGGCAGCGGCTGCAGGCCTGGGCGGCGGCGGCGCCGGCCCGGGACCCGAGGCCGGGGACTTCCTGGCCCGCTACCGGCTGGTATCGAACAAGCTGAAGAAGCGGTTCCTGCGGAAGCCGAACGTGGCGGAGGCCGGCGAGCAGTTCGGACAGCTGGGCCGGGAGCTGCGCGCCCAGGAGTGTCTGCCCTACGCGGCCTGGTGCCAGCTGGCGGTGGCGCGCTGCCAGCAGGCGCTCTTCCACGGGCCCGGGGAGGCGCTGGCCCTCACCGAGGCCGCCCGCCTCTTCCTGCGGCAGGAGCGCGACGCGCGCCAGCGCCTGGTCTGCCCCGCCGCCTACGGGGAGCCGCTGCAGGCCGCCGCCAGCGCCCTGGGCGCCGCGGTGCGTCTGCACCTCGAGCTGGGCCAGCCGGCCGCCGCCGCCGCCCTCTGCCTCGAGCTGGCCGCCGCCCTGCGCGACCTGGGCCAGCCGGCCGCCGCCGCCGGTCACTTCCAGCGCGCCGCCCAGCTCCAGCTGCCCCAGCTGCCCCTGGCCGCGCTGCAGGCGCTTGGCGAGGCCGCCTCCTGCCAGCTGCTGGCGCGCGACTACACCGGCGCCCTGGCGGTCTTCACGCGCATGCAGCGCCTGGCGCGGGAGCACGGCAGCCACCCGGTGCAGTCACTGCCGCCGCCCCCGCCGCCGGCACCCCAGCCCGGGCCCGGGGCGACGCCCGCCCTACCGGCCGCGCTGCTTCCTCCGAACTCCGGCTCGGCGGCGCCCTCTCCCGCCGCCCTGGGCGCCTTCTCGGACGTGCTGGTCCGCTGCGAGGTGTCCCGCGTGCTGCTGCTGCTCCTCCTGCAACCACCGCCCGCCAAGCTGCTGCCGGAGCACGCCCAGACCCTGGAGAAGTACTCCTGGGAGGCTTTTGACAGCCACGGGCAGGAGAGCAGCGGCCAGCTTCCCGAGGAGCTCTTTCTGCTGCTCCAGTCTTTGGTCATGGCTACCCACGAAAAGGACACGGAAGCCATCAAGTCGCTGCAGGTGGAGATGTGGCCACTGTTGACTGCTGAGCAGAACCACCTCCTTCACCTCGTTCTGCAAGAAACCATCTCCCCCTCAGGACAGGGAGTCTGATCCATCCCATTCACCCAGTGACTTCTTTTTGCCCAGGCCTGGACTTTTTGCATCAGTCACGTTAACCAGATGACTTTGCCTGTTACCAAACCTCATGCATCCACGTTTGCGTCTGGGGAGGAATAAAAAGACATCGTTCCCGCTTCTGCGTTTTGTTATTCCTACTGCCGCCATAGGAATTATTTCGTTGGCTGAACGTTACCAGCACCCCGAGAACACATTTTGATAGAATCAGAGTAGAGGACATGGCTGTCTTCTAAAAAGCCACGACATGAAAATGACAATCCCTTTCGTCTCCTTCCTCCGCTGCTTCCACCTAACGCAGCCTCCTGCCTCCGCCTTTGTTTCATAGTGAGGATTTTATTTTGCACGGCGCCCTCCCTCTAAATACCTACCCTAGATGATTTCATCCTGCCCCTCACTTCTTAACATATTCCTGTGTCTTTGTAATGGCCAAATTTCTCCTTCCACTCGTCCGCACGGTACGTCTTCATGGGAGTCATTTTATTCCTTACAGCTTCCTTGTAACCACAGCCCTAAATCCATGATAAAGCTACTCTTGTACTCCTCA\n",
      "Read sequence from file:\n",
      "ID: NC_000023_random\n",
      "Description: NC_000023_random\n",
      "Sequence: AAGTGCTTGGGGCGGCGAGCATGGCGGCAGCGGCTGCAGGCCTGGGCGGCGGCGGCGCCGGCCCGGGACCCGAGGCCGGGGACTTCCTGGCCCGCTACCGGCTGGTATCGAACAAGCTGAAGAAGCGGTTCCTGCGGAAGCCGAACGTGGCGGAGGCCGGCGAGCAGTTCGGACAGCTGGGCCGGGAGCTGCGCGCCCAGGAGTGTCTGCCCTACGCGGCCTGGATTTTTTTGCCAGCTGGCGGTGGCGCGCTGCCAGCAGGCGGGGGGCCTCTTCCACGGGCCCGGGGAGGCGCTGGCCCTCACCGAGGCCGCCCGCCTCTTCCTGCGGCAGGAGCGCGACGCGCGCCAGCGCCTGGTCTGCCCCGCCGCCTACGGGGAGCCGCTGCAGGCCGCCGCCAGCGCCCTGGGCGCCGCGGTGCGTCTGCACCTCGAGCTGGGCCAGCCGGCCGCCGCCGCCGCCCTCTGCCTCGAGCTGGCCGCCGCCCTGCGCGACCTGGGCCAGCCGGCCGCCGCCGCCGGTCACTTCCAGCGCGCCGCCCAGCTCCAGCTGCCCCAGCTGCCCCTGGCCGCGCTGCAGGCGCTTGGCGAGGCCGCCTCCTGCCAGCTGCTGGCGCGCGACTACACCGGCGCCCTGGCGGTCTTCACGCGCATGCAGCGCCTGGCGCGGGAGCACAAATTGGCAGCCACCCGGTGCAGTCACTGCCGCCGCCCCCGCCGCCGGCACCCCAGCCCGGGCCCGGGGCGACGCCCGCCCTACCGGCCGCGCTGTCGGCGGCGCCCTCTCCCGCCGCCCTGGGCGCCTTCTCGGACGTGCTGGTCCGCTGCGAGGTGTCCCGCGTGCTGCTGCTGCTCCTCCTGCAACCACCGCCCGCCAAGCTGCTGCCGGAGCACGCCCAGACCCTGGAGAAGTACTCCTGGGAGGCTTTTGACAGCCACGGGCAGGAGAGCAGCGGCCAGCTTCCCGAGGAGCTCTTTCTGCTGCTCCAGTCTTTGGTCATGGCTACCCACGAAAAGGACACGGAAGCCATCAAGTCGCTGCAGGTGGAGATGTGGCCACTGTTGACTGCTGAGCAGGGTTTCCGAACCACCTCCTTCACCTCGTTCTGCAAGAAACCATCTCCCCCTCAGGACAGGGAGTCTGATCCATCCCATTCACCCAGTGACTTCTTTTTGCCCAGGCCTGGACTTAGTCACGTTAACCAGATGACTTTGCCTGTTACCAAACCTCATGCATCCACGTTTGCGTCTGGGGAGGAATAAAAAGACATCGTTCCCGCTTCTGCGTTTTGTTATTCCTACTGCCGCCATAGGAATTATTTCGTTGGCTGAACGTTACCAGCACCCCGAGAACACATTTTGATAGAATCAGAGTAGAGGACATGGCTGTCTTCTAAAAAGCCACGACATGAAAATGACAATCCCTTTCGTCTCCTTCCAAAAAAACCCTCCCCCGCTGCTTCCACCTAACGCAGCCTCCTGCCTCCGCCTTTGTTTCATAGTGAGGATTTTATTTTGCACGGCGCCCTCCCTCTAAATACCTACCCTAGATGTTTCATCCTGCCCCTCACTTCTTAACATATTCCTGTGTCTTTGTAATGGCCAAATTTCTCCTTCACTCGTCCGCACGGTACGTCTTCATGGGAGTCATTTTATTCCTTACAGCTTCCTTGTAACCACAGCCCTAAATCCATATAAAGCTACTCTTTACTCCTCA\n"
     ]
    }
   ],
   "source": [
    "fasta_sequences = SeqIO.parse(r\"D:\\HSE\\BioinformaticsCourse2024\\homework\\1_1\\data\\f8.fasta\", \"fasta\")\n",
    "f8_sequences = []\n",
    "for record in fasta_sequences.records:\n",
    "    print(\"Read sequence from file:\")\n",
    "    print(\"ID:\", record.id)\n",
    "    print(\"Description:\", record.description)\n",
    "    print(\"Sequence:\", record.seq)\n",
    "    f8_sequences.append(record.seq)"
   ]
  },
  {
   "cell_type": "code",
   "execution_count": 3,
   "metadata": {},
   "outputs": [
    {
     "name": "stdout",
     "output_type": "stream",
     "text": [
      "Read sequence from file:\n",
      "ID: first\n",
      "Description: first\n",
      "Sequence: GATTACA\n",
      "Read sequence from file:\n",
      "ID: second\n",
      "Description: second\n",
      "Sequence: CATTAGA\n"
     ]
    }
   ],
   "source": [
    "fasta_sequences = SeqIO.parse(r\"D:\\HSE\\BioinformaticsCourse2024\\homework\\1_1\\data\\gattaca.fasta\", \"fasta\")\n",
    "gattaca_sequences = []\n",
    "for record in fasta_sequences.records:\n",
    "    print(\"Read sequence from file:\")\n",
    "    print(\"ID:\", record.id)\n",
    "    print(\"Description:\", record.description)\n",
    "    print(\"Sequence:\", record.seq)\n",
    "    gattaca_sequences.append(record.seq)"
   ]
  },
  {
   "cell_type": "code",
   "execution_count": 4,
   "metadata": {},
   "outputs": [],
   "source": [
    "def generate_seq(len1, len2):\n",
    "    \n",
    "    '''Generates absolute random sequence of a given length'''\n",
    "    seq1 = ''\n",
    "    seq2 = ''\n",
    "    for _ in range(len1):\n",
    "        seq1 += random.choice('ARNDCQEGHILKMFPSTWYVBZX')\n",
    "    for _ in range(len2):\n",
    "        seq2 += random.choice('ARNDCQEGHILKMFPSTWYVBZX')\n",
    "    return seq1, seq2"
   ]
  },
  {
   "cell_type": "markdown",
   "metadata": {},
   "source": [
    "# Нидлман Вунш"
   ]
  },
  {
   "cell_type": "markdown",
   "metadata": {},
   "source": [
    "Реализуйте алгоритм Нидлмана Вунша для выравнивания последовательностеей. На вход принимается две строки, матрица замен и стоимость гэпа. В результате верните оптимальное выравнивание и его вес. При проверке помните, что оптимальных выравниваний может быть несколько, но вес у них должен совпадать."
   ]
  },
  {
   "cell_type": "code",
   "execution_count": 97,
   "metadata": {},
   "outputs": [
    {
     "name": "stdout",
     "output_type": "stream",
     "text": [
      "My solution:\n",
      "Score = 21.0:\n",
      "target\t\t  0 YAFDLGYTCMFP-VLLGGGELHIV-QKETYTAP-D--E-I 34\n",
      "\t\t  0 -|||..-...|.-.||.||.|-||-..|....|-.--.-| 40\n",
      "query\t\t  0 -AFDVS-AGDFARALLTGGQL-IVCPNEVKMDPASLYAII 37\n",
      "\n",
      "Test solution:\n",
      "Score = 21.0:\n",
      "target            0 YAFDLGYTCMFP-VLLGGGELHIV-QKETYTAP-D--EI- 34\n",
      "                  0 -|||..-...|.-.||.||.|-||-..|....|-.--.|- 40\n",
      "query             0 -AFDVS-AGDFARALLTGGQL-IVCPNEVKMDPASLYAII 37\n",
      "\n",
      "Score = 21.0:\n",
      "target            0 YAFDLGYTCMFP-VLLGGGELHIV-QKETYTAP-D--E-I 34\n",
      "                  0 -|||..-...|.-.||.||.|-||-..|....|-.--.-| 40\n",
      "query             0 -AFDVS-AGDFARALLTGGQL-IVCPNEVKMDPASLYAII 37\n",
      "\n"
     ]
    }
   ],
   "source": [
    "def NeedlemanWunsch(seq1, seq2, subsistution_matrix, gap_penalty):\n",
    "    n = len(seq1)\n",
    "    m = len(seq2)\n",
    "    dp = [[0 for _ in range(m+1)] for _ in range(n+1)]\n",
    "    for i in range(n+1):\n",
    "        dp[i][0] = i*gap_penalty\n",
    "    for i in range(m+1):\n",
    "        dp[0][i] = i*gap_penalty\n",
    "    for i in range(1, n+1):\n",
    "        for j in range(1, m+1):\n",
    "            aminoacid1_idx = subsistution_matrix.alphabet.find(seq1[i-1])\n",
    "            aminoacid2_idx = subsistution_matrix.alphabet.find(seq2[j-1])\n",
    "            dp[i][j] = max(\n",
    "                dp[i-1][j-1] + subsistution_matrix[aminoacid1_idx][aminoacid2_idx],\n",
    "                dp[i-1][j] + gap_penalty,\n",
    "                dp[i][j-1] + gap_penalty,\n",
    "            )\n",
    "    score = dp[n][m]\n",
    "\n",
    "    alignment1 = ''\n",
    "    alignment2 = ''\n",
    "    while n > 0 or m > 0:\n",
    "        aminoacid1_idx = subsistution_matrix.alphabet.find(seq1[n-1])\n",
    "        aminoacid2_idx = subsistution_matrix.alphabet.find(seq2[m-1])\n",
    "        if n > 0 and m > 0 and dp[n][m] == dp[n-1][m-1] + subsistution_matrix[aminoacid1_idx][aminoacid2_idx]:\n",
    "            alignment1 = seq1[n-1] + alignment1\n",
    "            alignment2 = seq2[m-1] + alignment2\n",
    "            n -= 1\n",
    "            m -= 1\n",
    "        elif n > 0 and dp[n][m] == dp[n-1][m] + gap_penalty:\n",
    "            alignment1 = seq1[n-1] + alignment1\n",
    "            alignment2 = '-' + alignment2\n",
    "            n -= 1\n",
    "        else:\n",
    "            alignment2 = seq2[m-1] + alignment2\n",
    "            alignment1 = '-' + alignment1\n",
    "            m -= 1\n",
    "    return (score, alignment1, alignment2)\n",
    "\n",
    "def generate_comparison(my_alignment1, my_alignment2):\n",
    "    comparison_str = ''\n",
    "    for i in range(len(my_alignment1)):\n",
    "        if my_alignment1[i] == my_alignment2[i]:\n",
    "            comparison_str += '|'\n",
    "        elif my_alignment1[i] != my_alignment2[i] and my_alignment1[i] != '-' and my_alignment2[i] != '-':\n",
    "            comparison_str += '.'\n",
    "        else:\n",
    "            comparison_str += '-'\n",
    "    return comparison_str\n",
    "\n",
    "\n",
    "\n",
    "matrix = substitution_matrices.load(\"BLOSUM62\")\n",
    "\n",
    "#  ARNDCQEGHILKMFPSTWYVBZX\n",
    "# seq1, seq2 = gattaca_sequences\n",
    "seq1 = 'YAFDLGYTCMFPVLLGGGELHIVQKETYTAPDEI'\n",
    "seq2 = 'AFDVSAGDFARALLTGGQLIVCPNEVKMDPASLYAII'\n",
    "# seq1, seq2 = generate_seq(10, 20)  # absolute random sequences\n",
    "\n",
    "my_score, my_alignment1, my_alignment2 = NeedlemanWunsch(seq1, seq2, matrix, -4)\n",
    "comparison_str = generate_comparison(my_alignment1, my_alignment2)\n",
    "\n",
    "print(f'My solution:\\nScore = {my_score}:')\n",
    "print(f'target\\t\\t  0 {my_alignment1} {len(seq1)}')\n",
    "print(f'\\t\\t  0 {comparison_str} {len(comparison_str)}')\n",
    "print(f'query\\t\\t  0 {my_alignment2} {len(seq2)}\\n')\n",
    "\n",
    "aligner = Bio.Align.PairwiseAligner()\n",
    "aligner.substitution_matrix = matrix\n",
    "aligner.open_gap_score = -4\n",
    "aligner.extend_gap_score = -4\n",
    "print('Test solution:')\n",
    "for alignment in aligner.align(seq1, seq2):\n",
    "    print(\"Score = %.1f:\" % alignment.score)\n",
    "    print(alignment)"
   ]
  },
  {
   "cell_type": "markdown",
   "metadata": {},
   "source": [
    "# Афинные гэпы"
   ]
  },
  {
   "cell_type": "markdown",
   "metadata": {},
   "source": [
    "Реализуйте выравнивание с афинными гэпами, алгоритм на вход принимает две строки, матрицу замен, штраф за начало гэпа α, и за его продолжение β. В результате возвращает выравнивание и его вес. Сложность алгоритма квадратичная по памяти и по времени."
   ]
  },
  {
   "cell_type": "code",
   "execution_count": 101,
   "metadata": {},
   "outputs": [
    {
     "name": "stdout",
     "output_type": "stream",
     "text": [
      "My solution:\n",
      "Score = 33.0:\n",
      "target\t\t  0 YAFDL--GYTCMFP-VLLGGGELHIV-QKETYTAPDE----I 34\n",
      "\t\t  0 -|||.--|-.--|.-.||.||.|-||-..|....|..----| 42\n",
      "query\t\t  0 -AFDVSAG-D--FARALLTGGQL-IVCPNEVKMDPASLYAII 37\n",
      "\n",
      "Test solution:\n",
      "Score = 33.0:\n",
      "target            0 YAFDL--GYTCMFP-VLLGGGELHIV-QKETYTAPDE----I 34\n",
      "                  0 -|||.--|-.--|.-.||.||.|-||-..|....|..----| 42\n",
      "query             0 -AFDVSAG-D--FARALLTGGQL-IVCPNEVKMDPASLYAII 37\n",
      "\n"
     ]
    }
   ],
   "source": [
    "def AfinityGaps(seq1, seq2, subsistution_matrix, open_gap_penalty, extend_gap_penalty):\n",
    "    n = len(seq1)\n",
    "    m = len(seq2)\n",
    "    dp = [[0 for _ in range(m+1)] for _ in range(n+1)]\n",
    "    dp_insertion = [[0 for _ in range(m+1)] for _ in range(n+1)]\n",
    "    dp_deletion = [[0 for _ in range(m+1)] for _ in range(n+1)]\n",
    "    for i in range(1, m+1):\n",
    "        dp_insertion[0][i] = -10e6\n",
    "    for i in range(1, n+1):\n",
    "        dp_deletion[i][0] = -10e6\n",
    "    for i in range(1, n+1):\n",
    "        dp[i][0] = open_gap_penalty + (i-1)*extend_gap_penalty\n",
    "    for i in range(1, m+1):\n",
    "        dp[0][i] = open_gap_penalty + (i-1)*extend_gap_penalty\n",
    "    for i in range(1, n+1):\n",
    "        for j in range(1, m+1):\n",
    "            dp_insertion[i][j] = max(\n",
    "                dp_insertion[i-1][j] + extend_gap_penalty,\n",
    "                dp[i-1][j] + open_gap_penalty\n",
    "            )\n",
    "            dp_deletion[i][j] = max(\n",
    "                dp_deletion[i][j-1] + extend_gap_penalty,\n",
    "                dp[i][j-1] + open_gap_penalty\n",
    "            )\n",
    "            aminoacid1_idx = subsistution_matrix.alphabet.find(seq1[i-1])\n",
    "            aminoacid2_idx = subsistution_matrix.alphabet.find(seq2[j-1])\n",
    "            dp[i][j] = max(\n",
    "                dp[i-1][j-1] + subsistution_matrix[aminoacid1_idx][aminoacid2_idx],\n",
    "                dp_insertion[i][j],\n",
    "                dp_deletion[i][j],\n",
    "            )\n",
    "    score = dp[n][m]\n",
    "\n",
    "    alignment1 = ''\n",
    "    alignment2 = ''\n",
    "    current_matrix = 'substitution'\n",
    "    while n > 0 or m > 0:\n",
    "        aminoacid1_idx = subsistution_matrix.alphabet.find(seq1[n-1])\n",
    "        aminoacid2_idx = subsistution_matrix.alphabet.find(seq2[m-1])\n",
    "        if n == 0:\n",
    "            current_matrix = 'deletion'\n",
    "        elif m == 0:\n",
    "            current_matrix = 'insertion'\n",
    "        if current_matrix == 'substitution':\n",
    "            if dp[n][m] == dp[n-1][m-1] + subsistution_matrix[aminoacid1_idx][aminoacid2_idx]:\n",
    "                alignment1 = seq1[n-1] + alignment1\n",
    "                alignment2 = seq2[m-1] + alignment2\n",
    "                n -= 1\n",
    "                m -= 1\n",
    "            elif dp[n][m] == dp_insertion[n][m]:\n",
    "                current_matrix = 'insertion'\n",
    "            elif dp[n][m] == dp_deletion[n][m]:\n",
    "                current_matrix = 'deletion'\n",
    "        elif current_matrix == 'insertion':\n",
    "            if dp_insertion[n][m] == dp[n-1][m] + open_gap_penalty:\n",
    "                current_matrix = 'substitution'\n",
    "            alignment1 = seq1[n-1] + alignment1\n",
    "            alignment2 = '-' + alignment2\n",
    "            n -= 1\n",
    "        elif current_matrix == 'deletion':\n",
    "            if dp_deletion[n][m] == dp[n][m-1] + open_gap_penalty:\n",
    "                current_matrix = 'substitution'\n",
    "            alignment2 = seq2[m-1] + alignment2\n",
    "            alignment1 = '-' + alignment1\n",
    "            m -= 1\n",
    "    return (score, alignment1, alignment2)\n",
    "\n",
    "def generate_comparison(my_alignment1, my_alignment2):\n",
    "    comparison_str = ''\n",
    "    for i in range(len(my_alignment1)):\n",
    "        if my_alignment1[i] == my_alignment2[i]:\n",
    "            comparison_str += '|'\n",
    "        elif my_alignment1[i] != my_alignment2[i] and my_alignment1[i] != '-' and my_alignment2[i] != '-':\n",
    "            comparison_str += '.'\n",
    "        else:\n",
    "            comparison_str += '-'\n",
    "    return comparison_str\n",
    "\n",
    "\n",
    "\n",
    "matrix = substitution_matrices.load(\"BLOSUM62\")\n",
    "\n",
    "#  ARNDCQEGHILKMFPSTWYVBZX\n",
    "# seq1, seq2 = gattaca_sequences\n",
    "seq1 = 'YAFDLGYTCMFPVLLGGGELHIVQKETYTAPDEI'\n",
    "seq2 = 'AFDVSAGDFARALLTGGQLIVCPNEVKMDPASLYAII'\n",
    "# seq1, seq2 = generate_seq(10, 20)  # absolute random sequences\n",
    "\n",
    "open_gap_score = -3\n",
    "extend_gap_score = -2\n",
    "\n",
    "my_score, my_alignment1, my_alignment2 = AfinityGaps(seq1, seq2, matrix, open_gap_score, extend_gap_score)\n",
    "comparison_str = generate_comparison(my_alignment1, my_alignment2)\n",
    "\n",
    "print(f'My solution:\\nScore = {my_score}:')\n",
    "print(f'target\\t\\t  0 {my_alignment1} {len(seq1)}')\n",
    "print(f'\\t\\t  0 {comparison_str} {len(comparison_str)}')\n",
    "print(f'query\\t\\t  0 {my_alignment2} {len(seq2)}\\n')\n",
    "\n",
    "aligner = Bio.Align.PairwiseAligner()\n",
    "aligner.substitution_matrix = matrix\n",
    "aligner.open_gap_score = open_gap_score\n",
    "aligner.extend_gap_score = extend_gap_score\n",
    "print('Test solution:')\n",
    "for alignment in aligner.align(seq1, seq2):\n",
    "    print(\"Score = %.1f:\" % alignment.score)\n",
    "    print(alignment)"
   ]
  },
  {
   "cell_type": "code",
   "execution_count": null,
   "metadata": {},
   "outputs": [],
   "source": []
  }
 ],
 "metadata": {
  "kernelspec": {
   "display_name": ".general",
   "language": "python",
   "name": "python3"
  },
  "language_info": {
   "codemirror_mode": {
    "name": "ipython",
    "version": 3
   },
   "file_extension": ".py",
   "mimetype": "text/x-python",
   "name": "python",
   "nbconvert_exporter": "python",
   "pygments_lexer": "ipython3",
   "version": "3.11.5"
  }
 },
 "nbformat": 4,
 "nbformat_minor": 2
}
