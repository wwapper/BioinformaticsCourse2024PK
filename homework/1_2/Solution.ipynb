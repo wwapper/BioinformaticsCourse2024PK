{
 "cells": [
  {
   "cell_type": "code",
   "execution_count": 12,
   "metadata": {},
   "outputs": [],
   "source": [
    "import Bio\n",
    "from Bio import pairwise2\n",
    "from Bio import SeqIO\n",
    "from Bio.Align import substitution_matrices\n",
    "import random"
   ]
  },
  {
   "cell_type": "code",
   "execution_count": 2,
   "metadata": {},
   "outputs": [
    {
     "name": "stdout",
     "output_type": "stream",
     "text": [
      "Read sequence from file:\n",
      "ID: NC_000023\n",
      "Description: NC_000023\n",
      "Sequence: AAGTGCTTGGGGCGGCGAGCATGGCGGCAGCGGCTGCAGGCCTGGGCGGCGGCGGCGCCGGCCCGGGACCCGAGGCCGGGGACTTCCTGGCCCGCTACCGGCTGGTATCGAACAAGCTGAAGAAGCGGTTCCTGCGGAAGCCGAACGTGGCGGAGGCCGGCGAGCAGTTCGGACAGCTGGGCCGGGAGCTGCGCGCCCAGGAGTGTCTGCCCTACGCGGCCTGGTGCCAGCTGGCGGTGGCGCGCTGCCAGCAGGCGCTCTTCCACGGGCCCGGGGAGGCGCTGGCCCTCACCGAGGCCGCCCGCCTCTTCCTGCGGCAGGAGCGCGACGCGCGCCAGCGCCTGGTCTGCCCCGCCGCCTACGGGGAGCCGCTGCAGGCCGCCGCCAGCGCCCTGGGCGCCGCGGTGCGTCTGCACCTCGAGCTGGGCCAGCCGGCCGCCGCCGCCGCCCTCTGCCTCGAGCTGGCCGCCGCCCTGCGCGACCTGGGCCAGCCGGCCGCCGCCGCCGGTCACTTCCAGCGCGCCGCCCAGCTCCAGCTGCCCCAGCTGCCCCTGGCCGCGCTGCAGGCGCTTGGCGAGGCCGCCTCCTGCCAGCTGCTGGCGCGCGACTACACCGGCGCCCTGGCGGTCTTCACGCGCATGCAGCGCCTGGCGCGGGAGCACGGCAGCCACCCGGTGCAGTCACTGCCGCCGCCCCCGCCGCCGGCACCCCAGCCCGGGCCCGGGGCGACGCCCGCCCTACCGGCCGCGCTGCTTCCTCCGAACTCCGGCTCGGCGGCGCCCTCTCCCGCCGCCCTGGGCGCCTTCTCGGACGTGCTGGTCCGCTGCGAGGTGTCCCGCGTGCTGCTGCTGCTCCTCCTGCAACCACCGCCCGCCAAGCTGCTGCCGGAGCACGCCCAGACCCTGGAGAAGTACTCCTGGGAGGCTTTTGACAGCCACGGGCAGGAGAGCAGCGGCCAGCTTCCCGAGGAGCTCTTTCTGCTGCTCCAGTCTTTGGTCATGGCTACCCACGAAAAGGACACGGAAGCCATCAAGTCGCTGCAGGTGGAGATGTGGCCACTGTTGACTGCTGAGCAGAACCACCTCCTTCACCTCGTTCTGCAAGAAACCATCTCCCCCTCAGGACAGGGAGTCTGATCCATCCCATTCACCCAGTGACTTCTTTTTGCCCAGGCCTGGACTTTTTGCATCAGTCACGTTAACCAGATGACTTTGCCTGTTACCAAACCTCATGCATCCACGTTTGCGTCTGGGGAGGAATAAAAAGACATCGTTCCCGCTTCTGCGTTTTGTTATTCCTACTGCCGCCATAGGAATTATTTCGTTGGCTGAACGTTACCAGCACCCCGAGAACACATTTTGATAGAATCAGAGTAGAGGACATGGCTGTCTTCTAAAAAGCCACGACATGAAAATGACAATCCCTTTCGTCTCCTTCCTCCGCTGCTTCCACCTAACGCAGCCTCCTGCCTCCGCCTTTGTTTCATAGTGAGGATTTTATTTTGCACGGCGCCCTCCCTCTAAATACCTACCCTAGATGATTTCATCCTGCCCCTCACTTCTTAACATATTCCTGTGTCTTTGTAATGGCCAAATTTCTCCTTCCACTCGTCCGCACGGTACGTCTTCATGGGAGTCATTTTATTCCTTACAGCTTCCTTGTAACCACAGCCCTAAATCCATGATAAAGCTACTCTTGTACTCCTCA\n",
      "Read sequence from file:\n",
      "ID: NC_000023_random\n",
      "Description: NC_000023_random\n",
      "Sequence: AAGTGCTTGGGGCGGCGAGCATGGCGGCAGCGGCTGCAGGCCTGGGCGGCGGCGGCGCCGGCCCGGGACCCGAGGCCGGGGACTTCCTGGCCCGCTACCGGCTGGTATCGAACAAGCTGAAGAAGCGGTTCCTGCGGAAGCCGAACGTGGCGGAGGCCGGCGAGCAGTTCGGACAGCTGGGCCGGGAGCTGCGCGCCCAGGAGTGTCTGCCCTACGCGGCCTGGATTTTTTTGCCAGCTGGCGGTGGCGCGCTGCCAGCAGGCGGGGGGCCTCTTCCACGGGCCCGGGGAGGCGCTGGCCCTCACCGAGGCCGCCCGCCTCTTCCTGCGGCAGGAGCGCGACGCGCGCCAGCGCCTGGTCTGCCCCGCCGCCTACGGGGAGCCGCTGCAGGCCGCCGCCAGCGCCCTGGGCGCCGCGGTGCGTCTGCACCTCGAGCTGGGCCAGCCGGCCGCCGCCGCCGCCCTCTGCCTCGAGCTGGCCGCCGCCCTGCGCGACCTGGGCCAGCCGGCCGCCGCCGCCGGTCACTTCCAGCGCGCCGCCCAGCTCCAGCTGCCCCAGCTGCCCCTGGCCGCGCTGCAGGCGCTTGGCGAGGCCGCCTCCTGCCAGCTGCTGGCGCGCGACTACACCGGCGCCCTGGCGGTCTTCACGCGCATGCAGCGCCTGGCGCGGGAGCACAAATTGGCAGCCACCCGGTGCAGTCACTGCCGCCGCCCCCGCCGCCGGCACCCCAGCCCGGGCCCGGGGCGACGCCCGCCCTACCGGCCGCGCTGTCGGCGGCGCCCTCTCCCGCCGCCCTGGGCGCCTTCTCGGACGTGCTGGTCCGCTGCGAGGTGTCCCGCGTGCTGCTGCTGCTCCTCCTGCAACCACCGCCCGCCAAGCTGCTGCCGGAGCACGCCCAGACCCTGGAGAAGTACTCCTGGGAGGCTTTTGACAGCCACGGGCAGGAGAGCAGCGGCCAGCTTCCCGAGGAGCTCTTTCTGCTGCTCCAGTCTTTGGTCATGGCTACCCACGAAAAGGACACGGAAGCCATCAAGTCGCTGCAGGTGGAGATGTGGCCACTGTTGACTGCTGAGCAGGGTTTCCGAACCACCTCCTTCACCTCGTTCTGCAAGAAACCATCTCCCCCTCAGGACAGGGAGTCTGATCCATCCCATTCACCCAGTGACTTCTTTTTGCCCAGGCCTGGACTTAGTCACGTTAACCAGATGACTTTGCCTGTTACCAAACCTCATGCATCCACGTTTGCGTCTGGGGAGGAATAAAAAGACATCGTTCCCGCTTCTGCGTTTTGTTATTCCTACTGCCGCCATAGGAATTATTTCGTTGGCTGAACGTTACCAGCACCCCGAGAACACATTTTGATAGAATCAGAGTAGAGGACATGGCTGTCTTCTAAAAAGCCACGACATGAAAATGACAATCCCTTTCGTCTCCTTCCAAAAAAACCCTCCCCCGCTGCTTCCACCTAACGCAGCCTCCTGCCTCCGCCTTTGTTTCATAGTGAGGATTTTATTTTGCACGGCGCCCTCCCTCTAAATACCTACCCTAGATGTTTCATCCTGCCCCTCACTTCTTAACATATTCCTGTGTCTTTGTAATGGCCAAATTTCTCCTTCACTCGTCCGCACGGTACGTCTTCATGGGAGTCATTTTATTCCTTACAGCTTCCTTGTAACCACAGCCCTAAATCCATATAAAGCTACTCTTTACTCCTCA\n"
     ]
    }
   ],
   "source": [
    "fasta_sequences = SeqIO.parse(r\"D:\\HSE\\BioinformaticsCourse2024\\homework\\1_1\\data\\f8.fasta\", \"fasta\")\n",
    "f8_sequences = []\n",
    "for record in fasta_sequences.records:\n",
    "    print(\"Read sequence from file:\")\n",
    "    print(\"ID:\", record.id)\n",
    "    print(\"Description:\", record.description)\n",
    "    print(\"Sequence:\", record.seq)\n",
    "    f8_sequences.append(record.seq)"
   ]
  },
  {
   "cell_type": "code",
   "execution_count": 3,
   "metadata": {},
   "outputs": [
    {
     "name": "stdout",
     "output_type": "stream",
     "text": [
      "Read sequence from file:\n",
      "ID: first\n",
      "Description: first\n",
      "Sequence: GATTACA\n",
      "Read sequence from file:\n",
      "ID: second\n",
      "Description: second\n",
      "Sequence: CATTAGA\n"
     ]
    }
   ],
   "source": [
    "fasta_sequences = SeqIO.parse(r\"D:\\HSE\\BioinformaticsCourse2024\\homework\\1_1\\data\\gattaca.fasta\", \"fasta\")\n",
    "gattaca_sequences = []\n",
    "for record in fasta_sequences.records:\n",
    "    print(\"Read sequence from file:\")\n",
    "    print(\"ID:\", record.id)\n",
    "    print(\"Description:\", record.description)\n",
    "    print(\"Sequence:\", record.seq)\n",
    "    gattaca_sequences.append(record.seq)"
   ]
  },
  {
   "cell_type": "code",
   "execution_count": 24,
   "metadata": {},
   "outputs": [],
   "source": [
    "def generate_seq(len1, len2):\n",
    "    \n",
    "    '''Generates absolute random sequences\n",
    "    of a given length'''\n",
    "    seq1 = ''\n",
    "    seq2 = ''\n",
    "    for _ in range(len1):\n",
    "        seq1 += random.choice('ARNDCQEGHILKMFPSTWYVBZX')\n",
    "    for _ in range(len2):\n",
    "        seq2 += random.choice('ARNDCQEGHILKMFPSTWYVBZX')\n",
    "    return seq1, seq2"
   ]
  },
  {
   "cell_type": "markdown",
   "metadata": {},
   "source": [
    "# Нидлман Вунш"
   ]
  },
  {
   "cell_type": "markdown",
   "metadata": {},
   "source": [
    "Реализуйте алгоритм Нидлмана Вунша для выравнивания последовательностеей. На вход принимается две строки, матрица замен и стоимость гэпа. В результате верните оптимальное выравнивание и его вес. При проверке помните, что оптимальных выравниваний может быть несколько, но вес у них должен совпадать."
   ]
  },
  {
   "cell_type": "code",
   "execution_count": 40,
   "metadata": {},
   "outputs": [
    {
     "name": "stdout",
     "output_type": "stream",
     "text": [
      "My solution:\n",
      "Score = 16.0:\n",
      "target\t\t  0 GATTACA 7\n",
      "\t\t  0 .||||.| 7\n",
      "query\t\t  0 CATTAGA 7\n",
      "\n",
      "Test solution:\n",
      "Score = 16.0:\n",
      "target            0 GATTACA 7\n",
      "                  0 .||||.| 7\n",
      "query             0 CATTAGA 7\n",
      "\n"
     ]
    }
   ],
   "source": [
    "def NeedlemanWunsch(seq1, seq2, subsistution_matrix, gap_penalty):\n",
    "    n = len(seq1)\n",
    "    m = len(seq2)\n",
    "    dp = [[0 for _ in range(m+1)] for _ in range(n+1)]\n",
    "    for i in range(n+1):\n",
    "        dp[i][0] = i*gap_penalty\n",
    "    for i in range(m+1):\n",
    "        dp[0][i] = i*gap_penalty\n",
    "    for i in range(1, n+1):\n",
    "        for j in range(1, m+1):\n",
    "            aminoacid1_idx = subsistution_matrix.alphabet.find(seq1[i-1])\n",
    "            aminoacid2_idx = subsistution_matrix.alphabet.find(seq2[j-1])\n",
    "            dp[i][j] = max(\n",
    "                dp[i-1][j-1] + subsistution_matrix[aminoacid1_idx][aminoacid2_idx],\n",
    "                dp[i-1][j] + gap_penalty,\n",
    "                dp[i][j-1] + gap_penalty,\n",
    "            )\n",
    "    score = dp[n][m]\n",
    "\n",
    "    alignment1 = ''\n",
    "    alignment2 = ''\n",
    "    while n > 0 or m > 0:\n",
    "        aminoacid1_idx = subsistution_matrix.alphabet.find(seq1[n-1])\n",
    "        aminoacid2_idx = subsistution_matrix.alphabet.find(seq2[m-1])\n",
    "        if n > 0 and m > 0 and dp[n][m] == dp[n-1][m-1] + subsistution_matrix[aminoacid1_idx][aminoacid2_idx]:\n",
    "            alignment1 = seq1[n-1] + alignment1\n",
    "            alignment2 = seq2[m-1] + alignment2\n",
    "            n -= 1\n",
    "            m -= 1\n",
    "        elif n > 0 and dp[n][m] == dp[n-1][m] + gap_penalty:\n",
    "            alignment1 = seq1[n-1] + alignment1\n",
    "            alignment2 = '-' + alignment2\n",
    "            n -= 1\n",
    "        else:\n",
    "            alignment2 = seq2[m-1] + alignment2\n",
    "            alignment1 = '-' + alignment1\n",
    "            m -= 1\n",
    "    return (score, alignment1, alignment2)\n",
    "\n",
    "\n",
    "matrix = substitution_matrices.load(\"BLOSUM62\")\n",
    "\n",
    "#  ARNDCQEGHILKMFPSTWYVBZX\n",
    "seq1, seq2 = gattaca_sequences\n",
    "# seq1, seq2 = 'TACCG', 'ACG'\n",
    "# seq1, seq2 = generate_seq(10, 20)  # absolute random sequences\n",
    "\n",
    "my_score, my_alignment1, my_alignment2 = NeedlemanWunsch(seq1, seq2, matrix, -4)\n",
    "comparison_str = ''\n",
    "for i in range(len(my_alignment1)):\n",
    "    if my_alignment1[i] == my_alignment2[i]:\n",
    "        comparison_str += '|'\n",
    "    elif my_alignment1[i] != my_alignment2[i] and my_alignment1[i] != '-' and my_alignment2[i] != '-':\n",
    "        comparison_str += '.'\n",
    "    else:\n",
    "        comparison_str += '-'\n",
    "print(f'My solution:\\nScore = {my_score}:\\ntarget\\t\\t  0 {my_alignment1} {len(seq1)}\\n\\t\\t  0 {comparison_str} {len(comparison_str)}\\nquery\\t\\t  0 {my_alignment2} {len(seq2)}\\n')\n",
    "\n",
    "aligner = Bio.Align.PairwiseAligner()\n",
    "aligner.substitution_matrix = matrix\n",
    "aligner.open_gap_score = -4\n",
    "aligner.extend_gap_score = -4\n",
    "print('Test solution:')\n",
    "for alignment in aligner.align(seq1, seq2):\n",
    "    print(\"Score = %.1f:\" % alignment.score)\n",
    "    print(alignment)"
   ]
  },
  {
   "cell_type": "markdown",
   "metadata": {},
   "source": [
    "# Афинные гэпы"
   ]
  },
  {
   "cell_type": "markdown",
   "metadata": {},
   "source": [
    "Реализуйте выравнивание с афинными гэпами, алгоритм на вход принимает две строки, матрицу замен, штраф за начало гэпа α, и за его продолжение β. В результате возвращает выравнивание и его вес. Сложность алгоритма квадратичная по памяти и по времени."
   ]
  },
  {
   "cell_type": "markdown",
   "metadata": {},
   "source": []
  }
 ],
 "metadata": {
  "kernelspec": {
   "display_name": ".general",
   "language": "python",
   "name": "python3"
  },
  "language_info": {
   "codemirror_mode": {
    "name": "ipython",
    "version": 3
   },
   "file_extension": ".py",
   "mimetype": "text/x-python",
   "name": "python",
   "nbconvert_exporter": "python",
   "pygments_lexer": "ipython3",
   "version": "3.11.5"
  }
 },
 "nbformat": 4,
 "nbformat_minor": 2
}
