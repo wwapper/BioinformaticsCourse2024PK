{
 "cells": [
  {
   "cell_type": "markdown",
   "metadata": {},
   "source": [
    "# Вызовы Хиршберга"
   ]
  },
  {
   "cell_type": "markdown",
   "metadata": {},
   "source": [
    "Реализуйте алгоритм, который принимал бы на вход две строки, штраф за удаления, вставки и несовпадения, а так-же цену совпадений. А возвращал бы дерево рекурсивных вызовов алгоритма Хоршберга. В вершинах дерева должны храниться пары строк, на которых будут происходит вызовы алгоритма Хиршберга.\n",
    "За 3 балла можно реализовать алгоритм используя квадрат памяти. При использовании линейного размера памяти задача стоит 8 баллов."
   ]
  },
  {
   "cell_type": "code",
   "execution_count": 46,
   "metadata": {},
   "outputs": [
    {
     "name": "stdout",
     "output_type": "stream",
     "text": [
      "                                        -----> ('CA', 'C')\n",
      "                    -----> ('CGCA', 'TGC')\n",
      "                                                            -----> ('G', 'G')\n",
      "                                        -----> ('CG', 'TG')\n",
      "                                                            -----> ('C', 'T')\n",
      "-----> ('AGTACGCA', 'TATGC')\n",
      "                                                            -----> ('A', 'A')\n",
      "                                        -----> ('TA', 'TA')\n",
      "                                                            -----> ('T', 'T')\n",
      "                    -----> ('AGTA', 'TA')\n",
      "                                        -----> ('AG', '')\n"
     ]
    }
   ],
   "source": [
    "class Node():\n",
    "    def __init__(self) -> None:\n",
    "        self.left = None\n",
    "        self.right = None\n",
    "        self.strings = None\n",
    "\n",
    "def calc_last_row(seq1, seq2, cost_del, cost_ins, cost_match, cost_mismatch):\n",
    "    n = len(seq1)\n",
    "    m = len(seq2)\n",
    "    dp = [[0 for _ in range(m+1)] for _ in range(2)]\n",
    "    for i in range(1, m+1):\n",
    "        dp[0][i] = dp[0][i-1] + cost_del\n",
    "    for i in range(1, n+1):\n",
    "        dp[1][0] = dp[0][0] + cost_ins\n",
    "        for j in range(1, m+1):\n",
    "            dp[1][j] = max(\n",
    "                dp[0][j] + cost_ins,\n",
    "                dp[1][j-1] + cost_del,\n",
    "                dp[0][j-1] + (cost_match if seq1[i-1] == seq2[j-1] else cost_mismatch)\n",
    "            )\n",
    "        dp[0], dp[1] = dp[1], dp[0]\n",
    "    return dp[0]\n",
    "\n",
    "def hirschberg(str1, str2, cost_del, cost_ins, cost_match, cost_mismatch, node):\n",
    "    node.strings = (str1, str2)\n",
    "    n = len(str1)\n",
    "    m = len(str2)\n",
    "    if n <= 1 or m <= 1:\n",
    "        return node\n",
    "    mid = n // 2\n",
    "    row_up = calc_last_row(str1[:mid+1], str2, cost_del, cost_ins, cost_match, cost_mismatch)\n",
    "    row_down = calc_last_row(str1[:mid:-1], str2[::-1], cost_del, cost_ins, cost_match, cost_mismatch)\n",
    "    max_val = -10e6\n",
    "    split_ind = -1\n",
    "    for i in range(m):\n",
    "        if row_up[i] + row_down[m-(i+1)] > max_val:\n",
    "            max_val = row_up[i] + row_down[m-(i+1)]\n",
    "            split_ind = i\n",
    "    node.left = hirschberg(str1[:mid], str2[:split_ind], cost_del, cost_ins, cost_match, cost_mismatch, Node())\n",
    "    node.right = hirschberg(str1[mid:], str2[split_ind:], cost_del, cost_ins, cost_match, cost_mismatch, Node())\n",
    "    return node\n",
    "\n",
    "def print_tree(node, level=0):\n",
    "    if node != None:\n",
    "        print_tree(node.right, level + 1)\n",
    "        print(' ' * 20 * level + '-----> ' + str(node.strings))\n",
    "        print_tree(node.left, level + 1)\n",
    "\n",
    "\n",
    "\n",
    "\n",
    "str1 = \"AGTACGCA\"\n",
    "str2 = \"TATGC\"\n",
    "cost_del = -2\n",
    "cost_ins = -2\n",
    "cost_match = 2\n",
    "cost_mismatch = -1\n",
    "\n",
    "root = hirschberg(str1, str2, cost_del, cost_ins, cost_match, cost_mismatch, Node())\n",
    "print_tree(root)\n"
   ]
  },
  {
   "cell_type": "markdown",
   "metadata": {},
   "source": [
    "# Дополнительная задача\n",
    "Показать, что в алгоритме поиска локального выравнивания можно использовать O(max(n, (W/w)^2)) памяти, где W- это вес оптимального локального выравнивания, а w - это вес который дается за совпадение символов."
   ]
  },
  {
   "cell_type": "markdown",
   "metadata": {},
   "source": [
    "Видно, что максимальное число совпадений в оптимальном локальном выравнивании равно W/w. Значит, вместо рассмотрения всей марицы, можно рассмотреть квадрат размером (W/w)^2 вокруг оптимального выравнивания. Таким образом, мы будем работать только с той частью матрицы, которая может привести к оптимальному выравниванию, а в алгоритме поиска локального выравнивания можно использовать O(max(n, (W/w)^2)) памяти"
   ]
  },
  {
   "cell_type": "markdown",
   "metadata": {},
   "source": []
  }
 ],
 "metadata": {
  "kernelspec": {
   "display_name": ".general",
   "language": "python",
   "name": "python3"
  },
  "language_info": {
   "codemirror_mode": {
    "name": "ipython",
    "version": 3
   },
   "file_extension": ".py",
   "mimetype": "text/x-python",
   "name": "python",
   "nbconvert_exporter": "python",
   "pygments_lexer": "ipython3",
   "version": "3.11.5"
  }
 },
 "nbformat": 4,
 "nbformat_minor": 2
}
