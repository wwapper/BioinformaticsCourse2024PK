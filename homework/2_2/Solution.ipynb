{
 "cells": [
  {
   "cell_type": "code",
   "execution_count": 16,
   "metadata": {},
   "outputs": [],
   "source": [
    "import numpy as np\n",
    "from Bio import SeqIO\n",
    "\n",
    "np.random.seed(0)\n",
    "\n",
    "nucleotides = ['A', 'T', 'G', 'C']\n",
    "\n",
    "sequence_string = ''.join(np.random.choice(nucleotides, 1000).tolist())\n",
    "reads = ''\n",
    "\n",
    "for i in range(1, 1001):\n",
    "    read_len = 150\n",
    "    read_start = np.random.default_rng().integers(0, 1000 - read_len)\n",
    "    read_str = sequence_string[read_start:read_start+read_len]\n",
    "    reads += f'>READ_SEQ_{i}\\n{read_str}\\n'\n",
    "\n",
    "with open(f\"reads.fasta\", \"w\") as file:\n",
    "    file.write(reads)\n",
    "\n",
    "with open(\"sequense.fasta\", \"w\") as file:\n",
    "    file.write('>MAIN_SEQ_0\\n')\n",
    "    file.write(sequence_string)"
   ]
  },
  {
   "cell_type": "markdown",
   "metadata": {},
   "source": [
    "## Построение графа Де Брюина\n",
    "По заданному набору ридов в формате FASTQ и параметру k, который соответствует длине k-меров, построить граф Де Брюина, некоторый путь в котором соответствовал бы возможной подстроке в исходном геноме. Не забывайте про запоминание покрытия каждого k-мера, а так же про сами подстроки, которые соответствуют каждому ребру. В остальном граф полностью соответствует тому, что был описан в лекции."
   ]
  },
  {
   "cell_type": "code",
   "execution_count": 16,
   "metadata": {},
   "outputs": [],
   "source": [
    "import numpy as np\n",
    "from Bio import SeqIO\n",
    "\n",
    "seq_name, seq_string = [], []\n",
    "with open (\"/home/pk/Desktop/BOTAY/BioinformaticsCourse2024PK/homework/2_2/reads.fasta\",'r') as fa:\n",
    "    for seq_record  in SeqIO.parse(fa,'fasta'):\n",
    "        seq_name.append(str(seq_record.name))\n",
    "        seq_string.append(str(seq_record.seq))\n",
    "\n",
    "true_seq_name, true_seq_string = [], []\n",
    "with open (\"/home/pk/Desktop/BOTAY/BioinformaticsCourse2024PK/homework/2_2/sequense.fasta\",'r') as fa:\n",
    "    for seq_record  in SeqIO.parse(fa,'fasta'):\n",
    "        true_seq_name.append(str(seq_record.name))\n",
    "        true_seq_string.append(str(seq_record.seq))\n",
    "true_seq = true_seq_string[0]"
   ]
  },
  {
   "cell_type": "code",
   "execution_count": 27,
   "metadata": {},
   "outputs": [
    {
     "name": "stdout",
     "output_type": "stream",
     "text": [
      "ACTACCCCTCTGACGAAAGTGCCGATTTTATACACTGCCAGCATCTCCGCATTTCACGACCGCGCAGAAATTGAATCATGGCATTCTTCGCCGGCAGCTATGACAGACCACAAAAGCACGCCTTTATTTCACTGATGAGATCGGTACTTCAGGCGCCCGTGGCGCCGGCATGCGTGTAGGCACGCAAGAGCGGCAAATGATGCGGCTAAACCAGGAACATGAACTCAGTTTCAAATTGTAATGTTCTAAACCTGTCTCAACTGAGCCGCTTTCGAATACGCCGAGCGGTTCCACAAGGCTTACAGCCTCTCGATTCCCTTTCCGGGACCTGCTCCTTTAGGATTACAACGTGTGAGATTTACACAAAATCCACGGTTTGTTATGTTAATTGCCTCCCGGTGCGACCTTTGTTTGACTACTTGAGCAGAGAACCCAACTCGCACACCTGTAACACAATAGGGAAGAGCGCCATTTAACCTCACATGGAGTCCCTGTGCGTGCCAAGTCTGGTAGCAGACGTGTATTGGCATACAAGACTACGTCATGAAAGTCAAAATCGGTATTTCCTTCTCCGGCTTTGACAATATACGGTAAAAACGTAGCCCCAGTACCCCAGTGGTCCAAGTTACAGACTGCGTAATAAGAATCTTTTCTGAGACCTCACGACCCATCCGTCCTTAACGAACGTGCGCCACGGACGTACTGTTATTCTCGATTCCATGATGTGTCGCTGCGGGACGGCGGATACGAAGCTCGGTTGCTGTCGCATTGGAGTCGACTGAGTGTAATAGACTGAGCAATATAGCCAGTCCAGAGACGGAAGTCTTTAGTTCCTCTCGAGTTTTGATGCTCTTGAGGCGGGACTTCCGCGGTCTCTGGTGATTCGACTAAGTCATGTGTCTCGAACTTTAGGGAGCCATGGCATGAAGTGACCAATATATGCTCGTGTCGAGTCAAGGAGCAAGGTGAATTATAGATGAATTCAGTGCTGAGAGAAGTA\n",
      "ACTACAAGATGCTACTCCCAAGTTCGGCATTGACTAGCTGCAATCGCTCGTTACTCACGTTCTCAGACGTAACTGGACGTATCAGACTGCCTAGCAATCGTCCTATAACGAGTCATAAATTGCACGTCTCTGAACGTGTTCACTATGATCGTCGCTACTGACTGCGATATTACATCACGTAACCTAGTCGTACGTACGTACGACGCATCGAGATACGTAGAGCGTACGGACACGTCAGTACAGACGTACATGCGCTGACTACGTCATCGTGCAGACTTGCATCAGTCATCGTTAATATACACGAAGCTAGTAACTCTGACTTGTACTGCGTTACGAAGCTTACGAGTACGCAGTCATCATGACTCGACGAGTTAGCCGTAACGGATTTGCTCAGTTTCAGATCCCAGTGCTCGACGTGGTCCGTCGCGTGCGAAGTGACGCAGAGAGTCATGAATGTCGAGCACGTCAGTGGATATCTGATCGCAGTCCAGCGCTGACAGGTCGTAGCAGATACGCATACCGTAGAGCCTGCTGAACCTGATCCAGCGTAACGCACGTATGTAATGCCTCGACATTTATGCACACGAAGTATGATTCGGGTACCGTGATCCGTGACCGAAGCAGTTGTATGGTTTGCAGACGTGGTGATTTCAGGGACACCGTGCGTGGATGACGCATGACGAAACATCAACGATAACATCATCGTCTACTTCCTGTGCGATTCTTAGCGTATCTGCCTACCGTATCACGTAATATGCCAATTTGCAGACGATCTGACAGAATCGCAATCAGCGTGCACACATGTCGTATGCGTCAGAGAGACATTGTCGCGCGCTGTTCCCGAGTGCTAATCGTCGTTCATTCCCATGCTTGTTACTACTAGTGTGCTGTACTGGCATACCCTCGCATCTTATGACGTCAGATGCACTACAGCGCAAGGTCTCGCTATCATGCAATACAGATCGAAGAATGGTTAAATCGAGAAAGAGTTGGGGCTCGT\n"
     ]
    }
   ],
   "source": [
    "from collections import defaultdict\n",
    "from copy import deepcopy\n",
    "\n",
    "\n",
    "class Node():\n",
    "    def __init__(self, string):\n",
    "        self.string = string\n",
    "        self.in_degree = 0\n",
    "        self.out_degree = 0\n",
    "\n",
    "class Edge():\n",
    "    def __init__(self, prev_node, next_node, string):\n",
    "        self.prev_node = prev_node\n",
    "        self.next_node = next_node\n",
    "        self.string = string\n",
    "        self.coverage = 1\n",
    "\n",
    "class DBGraph():\n",
    "    def __init__(self, reads, k):\n",
    "        self.reads = reads\n",
    "        self.k = k\n",
    "        self.used_edges = set()\n",
    "        self.nodes = []\n",
    "        self.edges = {}\n",
    "        self.connections = defaultdict(list)\n",
    "        self.kmers = []\n",
    "\n",
    "    def gen_kmers(self):\n",
    "        for read in self.reads:\n",
    "            self.kmers.extend([read[i:self.k+i] for i in range(0, len(read)-self.k+1)])\n",
    "\n",
    "    def create_graph(self):\n",
    "        for kmer in self.kmers:\n",
    "            prev_node_str = kmer[:-1]\n",
    "            prev_node = Node(prev_node_str)\n",
    "            next_node_str = kmer[1:]\n",
    "            next_node = Node(next_node_str)\n",
    "            self.nodes.extend([prev_node, next_node])\n",
    "            if kmer in self.used_edges:\n",
    "                self.edges[kmer].coverage += 1\n",
    "            else:\n",
    "                self.used_edges.add(kmer)\n",
    "                self.edges[kmer] = Edge(prev_node_str, next_node_str, kmer)\n",
    "                self.connections[prev_node_str].append(self.edges[kmer])\n",
    "\n",
    "    def find_euler_path(self, v):\n",
    "        connections = deepcopy(self.connections)\n",
    "        string = v\n",
    "        queue = [v]\n",
    "        while queue:\n",
    "            u = queue.pop()\n",
    "            # print(u)\n",
    "            for edge in connections[u]:\n",
    "                if edge.coverage:\n",
    "                    queue.append(edge.next_node)\n",
    "                    edge.coverage -= 1\n",
    "                    string += edge.next_node[-1]\n",
    "        return string\n",
    "\n",
    "    def assemble(self):\n",
    "        start = self.nodes[0]\n",
    "        for i in range(len(self.nodes)):\n",
    "            if self.nodes[i].in_degree < start.in_degree:\n",
    "                start = self.nodes[i]\n",
    "        return self.find_euler_path(start.string)\n",
    "\n",
    "        \n",
    "\n",
    "        \n",
    "\n",
    "\n",
    "G = DBGraph([true_seq], 5)\n",
    "G.gen_kmers()\n",
    "G.create_graph()\n",
    "s1 = true_seq\n",
    "s2 = G.assemble()\n",
    "print(s1)\n",
    "print(s2)"
   ]
  },
  {
   "cell_type": "code",
   "execution_count": 28,
   "metadata": {},
   "outputs": [
    {
     "data": {
      "text/plain": [
       "'GACTACGTCAT'"
      ]
     },
     "execution_count": 28,
     "metadata": {},
     "output_type": "execute_result"
    }
   ],
   "source": [
    "def shared_motif(seq):\n",
    "    s_seq = seq[0]\n",
    "    motif = set()\n",
    "    for i in range(len(s_seq)):\n",
    "        for j in range(i+1,len(s_seq)+1):\n",
    "            motif.add(s_seq[i:j])\n",
    "    for s in seq:\n",
    "        update_motif = list(motif)\n",
    "        for m in update_motif:\n",
    "            if m not in s:\n",
    "                motif.remove(m)\n",
    "    n = 0\n",
    "    longest_motif = ''\n",
    "    for i in motif:\n",
    "        if len(i) > n:\n",
    "            longest_motif = i\n",
    "            n = len(i)\n",
    "    return longest_motif\n",
    "\n",
    "shared_motif([s1, s2])"
   ]
  },
  {
   "cell_type": "markdown",
   "metadata": {},
   "source": [
    "## Сжатие графа  \n",
    "Научитесь производить сжатие графа Де Брюина. При сжатии не забывайте склеивать подстроки на ребрах и обновлять покрытие ребер. Пересчитывайте покрытие склеиваемых ребер как взвешенное среднее, где вес соответствует длине подстроки, соответствующей ребру."
   ]
  },
  {
   "cell_type": "code",
   "execution_count": null,
   "metadata": {},
   "outputs": [],
   "source": []
  }
 ],
 "metadata": {
  "kernelspec": {
   "display_name": "base",
   "language": "python",
   "name": "python3"
  },
  "language_info": {
   "codemirror_mode": {
    "name": "ipython",
    "version": 3
   },
   "file_extension": ".py",
   "mimetype": "text/x-python",
   "name": "python",
   "nbconvert_exporter": "python",
   "pygments_lexer": "ipython3",
   "version": "3.12.2"
  }
 },
 "nbformat": 4,
 "nbformat_minor": 2
}
