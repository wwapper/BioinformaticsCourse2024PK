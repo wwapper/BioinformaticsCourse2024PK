{
 "cells": [
  {
   "cell_type": "markdown",
   "id": "af17c8a670a1d8f8",
   "metadata": {
    "collapsed": false
   },
   "source": [
    "# PSSM Matrices"
   ]
  },
  {
   "cell_type": "code",
   "execution_count": 60,
   "id": "6350f0982294fe13",
   "metadata": {
    "ExecuteTime": {
     "end_time": "2024-04-09T19:22:06.375887158Z",
     "start_time": "2024-04-09T19:22:04.783938397Z"
    },
    "collapsed": false
   },
   "outputs": [],
   "source": [
    "from Bio.Seq import Seq\n",
    "import numpy as np\n",
    "import matplotlib.pyplot as plt\n",
    "import biotite.sequence as seq\n",
    "import biotite.sequence.align as align\n",
    "import biotite.sequence.graphics as graphics\n",
    "\n",
    "# The list of Anderson promoters\n",
    "seqs = [Seq(\"ttgacagctagctcagtcctaggtataatgctagc\"),\n",
    "        Seq(\"ttgacagctagctcagtcctaggtataatgctagc\"),\n",
    "        Seq(\"tttacagctagctcagtcctaggtattatgctagc\"),\n",
    "        Seq(\"ttgacagctagctcagtcctaggtactgtgctagc\"),\n",
    "        Seq(\"ctgatagctagctcagtcctagggattatgctagc\"),\n",
    "        Seq(\"ttgacagctagctcagtcctaggtattgtgctagc\"),\n",
    "        Seq(\"tttacggctagctcagtcctaggtactatgctagc\"),\n",
    "        Seq(\"tttacggctagctcagtcctaggtatagtgctagc\"),\n",
    "        Seq(\"tttacggctagctcagccctaggtattatgctagc\"),\n",
    "        Seq(\"ctgacagctagctcagtcctaggtataatgctagc\"),\n",
    "        Seq(\"tttacagctagctcagtcctagggactgtgctagc\"),\n",
    "        Seq(\"tttacggctagctcagtcctaggtacaatgctagc\"),\n",
    "        Seq(\"ttgacggctagctcagtcctaggtatagtgctagc\"),\n",
    "        Seq(\"ctgatagctagctcagtcctagggattatgctagc\"),\n",
    "        Seq(\"ctgatggctagctcagtcctagggattatgctagc\"),\n",
    "        Seq(\"tttatggctagctcagtcctaggtacaatgctagc\"),\n",
    "        Seq(\"tttatagctagctcagcccttggtacaatgctagc\"),\n",
    "        Seq(\"ttgacagctagctcagtcctagggactatgctagc\"),\n",
    "        Seq(\"ttgacagctagctcagtcctagggattgtgctagc\"),\n",
    "        Seq(\"ttgacggctagctcagtcctaggtattgtgctagc\")]\n"
   ]
  },
  {
   "cell_type": "markdown",
   "id": "18151b0967e27eb5",
   "metadata": {
    "collapsed": false
   },
   "source": [
    "## Task 1: \n",
    "Given sequence collection, construct position frequency matrix (PFM) and from PFM construct PPM.\n",
    "\n",
    "![correct](practice5_files/PFM.png)"
   ]
  },
  {
   "cell_type": "code",
   "execution_count": 61,
   "id": "30d63342",
   "metadata": {},
   "outputs": [],
   "source": [
    "def matrix_construction(seqs):\n",
    "    PFM = np.zeros((4, len(seqs[0])), dtype='int')\n",
    "    idx_convert = {'a': 0, 'c': 1, 'g': 2, 't': 3}\n",
    "    for pos_idx in range(len(seqs[0])):\n",
    "        for seq in seqs:\n",
    "            PFM[idx_convert[seq[pos_idx]]][pos_idx] += 1\n",
    "    PPM = PFM/len(seqs)\n",
    "    return PFM, PPM\n",
    "\n",
    "PFM, PPM = matrix_construction(seqs)\n"
   ]
  },
  {
   "cell_type": "markdown",
   "id": "b6aff88753a073a4",
   "metadata": {
    "collapsed": false
   },
   "source": [
    "## Task 2\n",
    "\n",
    "You have a Lactobacillus genome in \"practice5_files\" folder. Let's try to find the 10 top-scoring according to your PSM... "
   ]
  },
  {
   "cell_type": "code",
   "execution_count": 64,
   "id": "36dfc199",
   "metadata": {},
   "outputs": [
    {
     "name": "stdout",
     "output_type": "stream",
     "text": [
      "('NC_014727.1', 0): Score = 0.0\n",
      "('NC_014727.1', 1): Score = 0.0\n",
      "('NC_014727.1', 2): Score = 0.0\n",
      "('NC_014727.1', 3): Score = 0.0\n",
      "('NC_014727.1', 4): Score = 0.0\n",
      "('NC_014727.1', 5): Score = 0.0\n",
      "('NC_014727.1', 6): Score = 0.0\n",
      "('NC_014727.1', 7): Score = 0.0\n",
      "('NC_014727.1', 8): Score = 0.0\n",
      "('NC_014727.1', 9): Score = 0.0\n"
     ]
    }
   ],
   "source": [
    "from Bio import SeqIO\n",
    "\n",
    "# Function to calculate PWM score for a sequence\n",
    "def calculate_ppm_score(seq, ppm):\n",
    "    idx_convert = {'A': 0, 'C': 1, 'G': 2, 'T': 3}\n",
    "    score = 1.0\n",
    "    for i, base in enumerate(seq):\n",
    "        if score == 0.0:\n",
    "            break\n",
    "        score *= ppm[idx_convert[base], i]\n",
    "    return score\n",
    "\n",
    "\n",
    "fasta_file = '/home/pk/Desktop/BioinformaticsCourse2024PK/practice/practice5_files/Lactobacillus_bulgaris.fasta'  # Update this with your FASTA file path\n",
    "scores = {}\n",
    "for record in SeqIO.parse(fasta_file, \"fasta\"):\n",
    "    seq = str(record.seq)\n",
    "    for i in range(len(seq) - PPM.shape[1] + 1):\n",
    "        score = calculate_ppm_score(seq[i: i + PPM.shape[1]], PPM)\n",
    "        scores[(record.id, i)] = score\n",
    "\n",
    "# Get top 10 highest scoring sequences\n",
    "top_10 = sorted(scores.items(), key=lambda x: x[1], reverse=True)[:10]\n",
    "\n",
    "# Output top 10 highest scoring sequences\n",
    "for name, score in top_10:\n",
    "    print(f\"{name}: Score = {score}\")"
   ]
  },
  {
   "cell_type": "markdown",
   "id": "6157f22b15cb38e3",
   "metadata": {
    "collapsed": false
   },
   "source": [
    "## Task 3\n",
    "\n",
    "Since your previous step did not give any meaningful results, let's try and add pseudocounts to the model (just add 0.01 probability to every cell of PPM)"
   ]
  },
  {
   "cell_type": "code",
   "execution_count": 67,
   "id": "a976f4c2",
   "metadata": {},
   "outputs": [
    {
     "name": "stdout",
     "output_type": "stream",
     "text": [
      "('NC_014727.1', 1750670): Score = 1.1110471623358634e-23\n",
      "('NC_014727.1', 127901): Score = 1.916035136170013e-24\n",
      "('NC_014727.1', 1854462): Score = 6.27353362910947e-25\n",
      "('NC_014727.1', 578770): Score = 5.31576062572989e-25\n",
      "('NC_014727.1', 2037280): Score = 1.9231363382998838e-25\n",
      "('NC_014727.1', 750074): Score = 8.834125403780717e-26\n",
      "('NC_014727.1', 151289): Score = 3.7464568999723747e-26\n",
      "('NC_014727.1', 256527): Score = 3.3146585781677367e-26\n",
      "('NC_014727.1', 28676): Score = 2.9189835557286675e-26\n",
      "('NC_014727.1', 95444): Score = 1.335370776227777e-26\n"
     ]
    }
   ],
   "source": [
    "# Function to calculate PWM score for a sequence\n",
    "def calculate_ppm_score(seq, ppm):\n",
    "    idx_convert = {'A': 0, 'C': 1, 'G': 2, 'T': 3}\n",
    "    score = 1.0\n",
    "    for i, base in enumerate(seq):\n",
    "        if score == 0.0:\n",
    "            break\n",
    "        score *= ppm[idx_convert[base], i]\n",
    "    return score\n",
    "\n",
    "pseudocounts_PPM = PPM + 0.01\n",
    "\n",
    "fasta_file = '/home/pk/Desktop/BioinformaticsCourse2024PK/practice/practice5_files/Lactobacillus_bulgaris.fasta'  # Update this with your FASTA file path\n",
    "scores = {}\n",
    "for record in SeqIO.parse(fasta_file, \"fasta\"):\n",
    "    seq = str(record.seq)\n",
    "    for i in range(len(seq) - PPM.shape[1] + 1):\n",
    "        score = calculate_ppm_score(seq[i: i + PPM.shape[1]], pseudocounts_PPM)\n",
    "        scores[(record.id, i)] = score\n",
    "\n",
    "# Get top 10 highest scoring sequences\n",
    "top_10 = sorted(scores.items(), key=lambda x: x[1], reverse=True)[:10]\n",
    "\n",
    "# Output top 10 highest scoring sequences\n",
    "for name, score in top_10:\n",
    "    print(f\"{name}: Score = {score}\")"
   ]
  },
  {
   "cell_type": "markdown",
   "id": "65a43fffd2a709f6",
   "metadata": {
    "collapsed": false
   },
   "source": [
    "## Task 4\n",
    "\n",
    "Ok, now we have some top-scoring positions, however, numbers are not impressive of meaningful.\n",
    "\n",
    "To get meaningful results let's switch to log odds Position Weight Matrix (PWM)\n",
    "![correct](practice5_files/PPM.png)\n",
    "\n",
    "b_k - frequency of nucleotide k in background model (nucleotide frequency based)"
   ]
  },
  {
   "cell_type": "code",
   "execution_count": 79,
   "id": "23d62567",
   "metadata": {},
   "outputs": [
    {
     "name": "stdout",
     "output_type": "stream",
     "text": [
      "[[-3.06323813 -3.06323813 -3.06323813  2.0382999  -3.06323813  1.3290793\n",
      "  -3.06323813 -3.06323813 -3.06323813  2.0382999  -3.06323813 -3.06323813\n",
      "  -3.06323813 -3.06323813  2.0382999  -3.06323813 -3.06323813 -3.06323813\n",
      "  -3.06323813 -3.06323813  1.96650922 -3.06323813 -3.06323813 -3.06323813\n",
      "   2.0382999  -3.06323813  0.77806413  1.43926222 -3.06323813 -3.06323813\n",
      "  -3.06323813 -3.06323813  2.0382999  -3.06323813 -3.06323813]\n",
      " [-0.1113235  -3.04992296 -3.04992296 -3.04992296  1.65051676 -3.04992296\n",
      "  -3.04992296  2.05161507 -3.04992296 -3.04992296 -3.04992296  2.05161507\n",
      "  -3.04992296  2.05161507 -3.04992296 -3.04992296 -0.93444574  2.05161507\n",
      "   2.05161507 -3.04992296 -3.04992296 -3.04992296 -3.04992296 -3.04992296\n",
      "  -3.04992296  0.61304205 -3.04992296 -3.04992296 -3.04992296 -3.04992296\n",
      "   2.05161507 -3.04992296 -3.04992296 -3.04992296  2.05161507]\n",
      " [-3.04221834 -3.04221834  1.35009908 -3.04221834 -3.04221834  0.79908391\n",
      "   2.05931969 -3.04221834 -3.04221834 -3.04221834  2.05931969 -3.04221834\n",
      "  -3.04221834 -3.04221834 -3.04221834  2.05931969 -3.04221834 -3.04221834\n",
      "  -3.04221834 -3.04221834 -3.04221834  2.05931969  2.05931969  0.41721328\n",
      "  -3.04221834 -3.04221834 -3.04221834  0.62074667 -3.04221834  2.05931969\n",
      "  -3.04221834 -3.04221834 -3.04221834  2.05931969 -3.04221834]\n",
      " [ 1.71016582  2.02162692  0.76139114 -3.07991111  0.14248131 -3.07991111\n",
      "  -3.07991111 -3.07991111  2.02162692 -3.07991111 -3.07991111 -3.07991111\n",
      "   2.02162692 -3.07991111 -3.07991111 -3.07991111  1.8742852  -3.07991111\n",
      "  -3.07991111  2.02162692 -1.66487361 -3.07991111 -3.07991111  1.52495095\n",
      "  -3.07991111  1.42258923  1.31240631 -3.07991111  2.02162692 -3.07991111\n",
      "  -3.07991111  2.02162692 -3.07991111 -3.07991111 -3.07991111]]\n",
      "[[-3.3899272  -3.3899272  -3.3899272   1.71161083 -3.3899272   1.00239022\n",
      "  -3.3899272  -3.3899272  -3.3899272   1.71161083 -3.3899272  -3.3899272\n",
      "  -3.3899272  -3.3899272   1.71161083 -3.3899272  -3.3899272  -3.3899272\n",
      "  -3.3899272  -3.3899272   1.63982014 -3.3899272  -3.3899272  -3.3899272\n",
      "   1.71161083 -3.3899272   0.45137506  1.11257314 -3.3899272  -3.3899272\n",
      "  -3.3899272  -3.3899272   1.71161083 -3.3899272  -3.3899272 ]\n",
      " [ 0.14994495 -2.78865451 -2.78865451 -2.78865451  1.91178521 -2.78865451\n",
      "  -2.78865451  2.31288352 -2.78865451 -2.78865451 -2.78865451  2.31288352\n",
      "  -2.78865451  2.31288352 -2.78865451 -2.78865451 -0.67317729  2.31288352\n",
      "   2.31288352 -2.78865451 -2.78865451 -2.78865451 -2.78865451 -2.78865451\n",
      "  -2.78865451  0.8743105  -2.78865451 -2.78865451 -2.78865451 -2.78865451\n",
      "   2.31288352 -2.78865451 -2.78865451 -2.78865451  2.31288352]\n",
      " [-2.9956272  -2.9956272   1.39669023 -2.9956272  -2.9956272   0.84567506\n",
      "   2.10591083 -2.9956272  -2.9956272  -2.9956272   2.10591083 -2.9956272\n",
      "  -2.9956272  -2.9956272  -2.9956272   2.10591083 -2.9956272  -2.9956272\n",
      "  -2.9956272  -2.9956272  -2.9956272   2.10591083  2.10591083  0.46380442\n",
      "  -2.9956272  -2.9956272  -2.9956272   0.66733782 -2.9956272   2.10591083\n",
      "  -2.9956272  -2.9956272  -2.9956272   2.10591083 -2.9956272 ]\n",
      " [ 1.79638884  2.10784994  0.84761416 -2.99368809  0.22870433 -2.99368809\n",
      "  -2.99368809 -2.99368809  2.10784994 -2.99368809 -2.99368809 -2.99368809\n",
      "   2.10784994 -2.99368809 -2.99368809 -2.99368809  1.96050822 -2.99368809\n",
      "  -2.99368809  2.10784994 -1.57865059 -2.99368809 -2.99368809  1.61117397\n",
      "  -2.99368809  1.50881225  1.39862933 -2.99368809  2.10784994 -2.99368809\n",
      "  -2.99368809  2.10784994 -2.99368809 -2.99368809 -2.99368809]]\n",
      "('NC_014727.1', 1750670): Score = 11.842139125790169\n",
      "('NC_014727.1', 127901): Score = 10.427992613844394\n",
      "('NC_014727.1', 1854462): Score = 9.039773588149725\n",
      "('NC_014727.1', 578770): Score = 8.595943611992144\n",
      "('NC_014727.1', 2037280): Score = 7.4767996588278045\n",
      "('NC_014727.1', 750074): Score = 6.412128271044439\n",
      "('NC_014727.1', 151289): Score = 6.202489789666725\n",
      "('NC_014727.1', 256527): Score = 6.1646204477395266\n",
      "('NC_014727.1', 28676): Score = 6.099993893215025\n",
      "('NC_014727.1', 95444): Score = 4.897459326468326\n"
     ]
    }
   ],
   "source": [
    "# Function to calculate PWM score for a sequence\n",
    "def calculate_ppm_score(seq, ppm):\n",
    "    score = 1.0\n",
    "    for i, base in enumerate(seq):\n",
    "        if score == 0.0:\n",
    "            break\n",
    "        score += ppm[idx_convert[base], i]\n",
    "    return score\n",
    "\n",
    "def frequency_count(sequence):\n",
    "    frequency = [0 for _ in range(4)]\n",
    "    for elem in sequence:\n",
    "        frequency[idx_convert[elem]] += 1/len(sequence)\n",
    "    return frequency\n",
    "\n",
    "idx_convert = {'A': 0, 'C': 1, 'G': 2, 'T': 3}\n",
    "pseudocounts_PPM = PPM + 0.03\n",
    "\n",
    "fasta_file = '/home/pk/Desktop/BioinformaticsCourse2024PK/practice/practice5_files/Lactobacillus_bulgaris.fasta'  # Update this with your FASTA file path\n",
    "scores = {}\n",
    "for record in SeqIO.parse(fasta_file, \"fasta\"):\n",
    "    seq = str(record.seq)\n",
    "    frequency = frequency_count(seq)\n",
    "    PWM = pseudocounts_PPM.copy()\n",
    "    for i in range(PWM.shape[0]):\n",
    "        PWM[i] /= frequency[i]\n",
    "    PWM = np.log2(PWM)\n",
    "    print(PWM)\n",
    "    for i in range(len(seq) - PWM.shape[1] + 1):\n",
    "        score = calculate_ppm_score(seq[i: i + PWM.shape[1]], PWM)\n",
    "        scores[(record.id, i)] = score\n",
    "\n",
    "# Get top 10 highest scoring sequences\n",
    "top_10 = sorted(scores.items(), key=lambda x: x[1], reverse=True)[:10]\n",
    "\n",
    "# Output top 10 highest scoring sequences\n",
    "for name, score in top_10:\n",
    "    print(f\"{name}: Score = {score}\")"
   ]
  },
  {
   "cell_type": "code",
   "execution_count": null,
   "id": "7ada2f0d",
   "metadata": {},
   "outputs": [],
   "source": []
  }
 ],
 "metadata": {
  "kernelspec": {
   "display_name": "Python 3",
   "language": "python",
   "name": "python3"
  },
  "language_info": {
   "codemirror_mode": {
    "name": "ipython",
    "version": 3
   },
   "file_extension": ".py",
   "mimetype": "text/x-python",
   "name": "python",
   "nbconvert_exporter": "python",
   "pygments_lexer": "ipython3",
   "version": "3.10.12"
  }
 },
 "nbformat": 4,
 "nbformat_minor": 5
}
